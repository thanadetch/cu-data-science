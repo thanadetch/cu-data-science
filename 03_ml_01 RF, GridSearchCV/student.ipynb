{
 "cells": [
  {
   "cell_type": "markdown",
   "metadata": {
    "id": "iKq5vgbI3QOi"
   },
   "source": [
    "##**Assignment 3 (2023/2): ML1**\n",
    "**Safe to eat or deadly poison?**\n",
    "\n"
   ]
  },
  {
   "cell_type": "markdown",
   "metadata": {
    "id": "JtWlAnW-4IIw"
   },
   "source": [
    "This homework is a classification task to identify whether a mushroom is edible or poisonous.\n",
    "\n",
    "This dataset includes descriptions of hypothetical samples corresponding to 23 species of gilled mushrooms in the Agaricus and Lepiota Family Mushroom drawn from The Audubon Society Field Guide to North American Mushrooms (1981).\n",
    "\n",
    "Each species is identified as definitely edible, definitely poisonous, or of unknown edibility and not recommended. This latter class was combined with the poisonous one. The Guide clearly states that there is no simple rule for determining the credibility of a mushroom; no rule like \"leaflets three, let it be'' for Poisonous Oak and Ivy.\n"
   ]
  },
  {
   "cell_type": "markdown",
   "metadata": {
    "id": "ia90I1DY4hYT"
   },
   "source": [
    "Step 1. Load 'mushroom2020_dataset.csv' data from the “Attachment” (note: this data set has been preliminarily prepared.).\n",
    "\n",
    "Step 2. Drop rows where the target (label) variable is missing.\n",
    "\n",
    "Step 3. Drop the following variables:\n",
    "'id','gill-attachment', 'gill-spacing', 'gill-size','gill-color-rate', 'stalk-root', 'stalk-surface-above-ring', 'stalk-surface-below-ring', 'stalk-color-above-ring-rate','stalk-color-below-ring-rate','veil-color-rate','veil-type'\n",
    "\n",
    "Step 4. Examine the number of rows, the number of digits, and whether any are missing.\n",
    "\n",
    "Step 5. Fill missing values by adding the mean for numeric variables and the mode for nominal variables.\n",
    "\n",
    "Step 6. Convert the label variable e (edible) to 1 and p (poisonous) to 0 and check the quantity. class0: class1\n",
    "\n",
    "Step 7. Convert the nominal variable to numeric using a dummy code with drop_first = True.\n",
    "\n",
    "Step 8. Split train/test with 20% test, stratify, and seed = 2020.\n",
    "\n",
    "Step 9. Create a Random Forest with GridSearch on training data with 5 CV with n_jobs=-1.\n",
    "\t'criterion':['gini','entropy']\n",
    "'max_depth': [2,3]\n",
    "'min_samples_leaf':[2,5]\n",
    "'N_estimators':[100]\n",
    "'random_state': 2020\n",
    "\n",
    "Step 10.  Predict the testing data set with classification_report.\n"
   ]
  },
  {
   "metadata": {
    "id": "uEoNW_114VQh"
   },
   "cell_type": "markdown",
   "source": "**Complete class MushroomClassifier from given code template below.**"
  },
  {
   "metadata": {
    "id": "-Xw2UEzU3s0k",
    "ExecuteTime": {
     "end_time": "2024-09-05T16:26:37.551322Z",
     "start_time": "2024-09-05T16:26:36.023740Z"
    }
   },
   "cell_type": "code",
   "source": [
    "#import your other libraries here\n",
    "import pandas as pd\n",
    "from sklearn.metrics import classification_report\n",
    "from sklearn.model_selection import train_test_split, GridSearchCV\n",
    "from sklearn.ensemble import RandomForestClassifier\n",
    "\n"
   ],
   "outputs": [],
   "execution_count": 2
  },
  {
   "metadata": {
    "id": "j59N5vzD3P1Z",
    "ExecuteTime": {
     "end_time": "2024-09-05T16:26:38.373304Z",
     "start_time": "2024-09-05T16:26:38.285512Z"
    }
   },
   "cell_type": "code",
   "source": [
    "class MushroomClassifier:\n",
    "    def __init__(self, data_path):  # DO NOT modify this line\n",
    "        self.data_path = data_path\n",
    "        self.df = pd.read_csv(data_path)\n",
    "\n",
    "    def Q1(self):  # DO NOT modify this line\n",
    "        \"\"\"\n",
    "            1. (From step 1) Before doing the data prep., how many \"na\" are there in \"gill-size\" variables?\n",
    "        \"\"\"\n",
    "        return self.df['gill-size'].isna().sum()\n",
    "\n",
    "    def Q2(self):  # DO NOT modify this line\n",
    "        \"\"\"\n",
    "            2. (From step 2-4) How many rows of data, how many variables?\n",
    "            - Drop rows where the target (label) variable is missing.\n",
    "            - Drop the following variables:\n",
    "            'id','gill-attachment', 'gill-spacing', 'gill-size','gill-color-rate','stalk-root', 'stalk-surface-above-ring',\n",
    "            'stalk-surface-below-ring', 'stalk-color-above-ring-rate','stalk-color-below-ring-rate','veil-color-rate','veil-type'\n",
    "            - Examine the number of rows, the number of digits, and whether any are missing.\n",
    "        \"\"\"\n",
    "        self.df.dropna(subset=['label'], inplace=True)\n",
    "        self.df.drop(columns=['id', 'gill-attachment', 'gill-spacing', 'gill-size', 'gill-color-rate', 'stalk-root',\n",
    "                              'stalk-surface-above-ring',\n",
    "                              'stalk-surface-below-ring', 'stalk-color-above-ring-rate', 'stalk-color-below-ring-rate',\n",
    "                              'veil-color-rate', 'veil-type'], inplace=True)\n",
    "        return self.df.shape\n",
    "\n",
    "    def Q3(self):  # DO NOT modify this line\n",
    "        \"\"\"\n",
    "            3. (From step 5-6) Answer the quantity class0:class1\n",
    "            - Fill missing values by adding the mean for numeric variables and the mode for nominal variables.\n",
    "            - Convert the label variable e (edible) to 1 and p (poisonous) to 0 and check the quantity. class0: class1\n",
    "        \"\"\"\n",
    "        nominal_columns = self.df.select_dtypes(include=['object']).columns\n",
    "        for column in nominal_columns:\n",
    "            self.df[column] = self.df[column].fillna(self.df[column].mode()[0])\n",
    "\n",
    "        numeric_columns = self.df.select_dtypes(include=['float64']).columns\n",
    "        for column in numeric_columns:\n",
    "            self.df[column] = self.df[column].fillna(self.df[column].mean())\n",
    "\n",
    "        self.df['label'] = self.df['label'].map({'e': 1, 'p': 0})\n",
    "\n",
    "        return self.df['label'].value_counts()\n",
    "\n",
    "    def Q4(self):  # DO NOT modify this line\n",
    "        \"\"\"\n",
    "            4. (From step 7-8) How much is each training and testing sets\n",
    "            - Convert the nominal variable to numeric using a dummy code with drop_first = True.\n",
    "            - Split train/test with 20% test, stratify, and seed = 2020.   \n",
    "        \"\"\"\n",
    "        self.df.dropna(subset=['label'], inplace=True)\n",
    "        self.df.drop(columns=['id', 'gill-attachment', 'gill-spacing', 'gill-size', 'gill-color-rate', 'stalk-root',\n",
    "                              'stalk-surface-above-ring',\n",
    "                              'stalk-surface-below-ring', 'stalk-color-above-ring-rate', 'stalk-color-below-ring-rate',\n",
    "                              'veil-color-rate', 'veil-type'], inplace=True)\n",
    "        self.df['label'] = self.df['label'].map({'e': 1, 'p': 0})\n",
    "        X = pd.get_dummies(self.df.drop(columns=['label']), drop_first=True)\n",
    "        y = self.df['label']\n",
    "\n",
    "        X_train, X_test, y_train, y_test = train_test_split(X, y, test_size=0.2, random_state=2020, stratify=y)\n",
    "\n",
    "        return X_train.shape, X_test.shape\n",
    "\n",
    "    def Q5(self):\n",
    "        \"\"\"\n",
    "            5. (From step 9) Best params after doing random forest grid search.\n",
    "            Create a Random Forest with GridSearch on training data with 5 CV with n_jobs=-1.\n",
    "            - 'criterion':['gini','entropy']\n",
    "            - 'max_depth': [2,3]\n",
    "            - 'min_samples_leaf':[2,5]\n",
    "            - 'N_estimators':[100]\n",
    "            - 'random_state': 2020\n",
    "        \"\"\"\n",
    "        self.df.dropna(subset=['label'], inplace=True)\n",
    "        self.df.drop(columns=['id', 'gill-attachment', 'gill-spacing', 'gill-size', 'gill-color-rate', 'stalk-root',\n",
    "                              'stalk-surface-above-ring',\n",
    "                              'stalk-surface-below-ring', 'stalk-color-above-ring-rate', 'stalk-color-below-ring-rate',\n",
    "                              'veil-color-rate', 'veil-type'], inplace=True)\n",
    "        nominal_columns = self.df.select_dtypes(include=['object']).columns\n",
    "        for column in nominal_columns:\n",
    "            self.df[column] = self.df[column].fillna(self.df[column].mode()[0])\n",
    "\n",
    "        numeric_columns = self.df.select_dtypes(include=['float64']).columns\n",
    "        for column in numeric_columns:\n",
    "            self.df[column] = self.df[column].fillna(self.df[column].mean())\n",
    "\n",
    "        self.df['label'] = self.df['label'].map({'e': 1, 'p': 0})\n",
    "        rf = RandomForestClassifier()\n",
    "        param_grid = {\n",
    "            'criterion': ['gini', 'entropy'],\n",
    "            'max_depth': [2, 3],\n",
    "            'min_samples_leaf': [2, 5],\n",
    "            'n_estimators': [100],\n",
    "            'random_state': [2020]\n",
    "        }\n",
    "        X = pd.get_dummies(self.df.drop(columns=['label']), drop_first=True)\n",
    "        y = self.df['label']\n",
    "\n",
    "        X_train, X_test, y_train, y_test = train_test_split(X, y, test_size=0.2, random_state=2020, stratify=y)\n",
    "        grid_search = GridSearchCV(rf, param_grid, cv=5, n_jobs=-1).fit(X_train, y_train)\n",
    "\n",
    "        return grid_search.best_params_\n",
    "\n",
    "    def Q6(self):\n",
    "        \"\"\"\n",
    "            5. (From step 10) What is the value of macro f1 (Beware digit !)\n",
    "            Predict the testing data set with confusion_matrix and classification_report,\n",
    "            using scientific rounding (less than 0.5 dropped, more than 0.5 then increased)\n",
    "        \"\"\"\n",
    "        self.df.dropna(subset=['label'], inplace=True)\n",
    "        self.df.drop(columns=['id', 'gill-attachment', 'gill-spacing', 'gill-size', 'gill-color-rate', 'stalk-root',\n",
    "                              'stalk-surface-above-ring',\n",
    "                              'stalk-surface-below-ring', 'stalk-color-above-ring-rate', 'stalk-color-below-ring-rate',\n",
    "                              'veil-color-rate', 'veil-type'], inplace=True)\n",
    "        nominal_columns = self.df.select_dtypes(include=['object']).columns\n",
    "        for column in nominal_columns:\n",
    "            self.df[column] = self.df[column].fillna(self.df[column].mode()[0])\n",
    "\n",
    "        numeric_columns = self.df.select_dtypes(include=['float64']).columns\n",
    "        for column in numeric_columns:\n",
    "            self.df[column] = self.df[column].fillna(self.df[column].mean())\n",
    "\n",
    "        self.df['label'] = self.df['label'].map({'e': 1, 'p': 0})\n",
    "        rf = RandomForestClassifier()\n",
    "        param_grid = {\n",
    "            'criterion': ['gini', 'entropy'],\n",
    "            'max_depth': [2, 3],\n",
    "            'min_samples_leaf': [2, 5],\n",
    "            'n_estimators': [100],\n",
    "            'random_state': [2020]\n",
    "        }\n",
    "        X = pd.get_dummies(self.df.drop(columns=['label']), drop_first=True)\n",
    "        y = self.df['label']\n",
    "\n",
    "        X_train, X_test, y_train, y_test = train_test_split(X, y, test_size=0.2, random_state=2020, stratify=y)\n",
    "        grid_search = GridSearchCV(rf, param_grid, cv=5, n_jobs=-1)\n",
    "        grid_search.fit(X_train, y_train)\n",
    "\n",
    "\n",
    "        best_rf = grid_search.best_estimator_\n",
    "        y_pred = best_rf.predict(X_test)\n",
    "        print(y_pred)\n",
    "        \n",
    "        report_dict = classification_report(y_test, y_pred)\n",
    "\n",
    "        return report_dict"
   ],
   "outputs": [],
   "execution_count": 3
  },
  {
   "cell_type": "markdown",
   "metadata": {
    "id": "macBnE5U5KYm"
   },
   "source": [
    "Run the code below to only test that your code can work, and there is no need to submit it to the grader."
   ]
  },
  {
   "cell_type": "code",
   "metadata": {
    "id": "eGpwReMy3NCI",
    "ExecuteTime": {
     "end_time": "2024-09-05T16:35:06.517898Z",
     "start_time": "2024-09-05T16:35:05.032137Z"
    }
   },
   "source": [
    "def main():\n",
    "    hw = MushroomClassifier('mushroom2020_dataset.csv')\n",
    "    method_name = input().strip()\n",
    "    if hasattr(hw, method_name):\n",
    "        method = getattr(hw, method_name)\n",
    "        result = method()\n",
    "        print(result)\n",
    "    \n",
    "        \n",
    "if __name__ == \"__main__\":\n",
    "    main()"
   ],
   "outputs": [
    {
     "name": "stdout",
     "output_type": "stream",
     "text": [
      "121\n"
     ]
    }
   ],
   "execution_count": 18
  },
  {
   "metadata": {},
   "cell_type": "code",
   "outputs": [],
   "execution_count": null,
   "source": ""
  }
 ],
 "metadata": {
  "colab": {
   "provenance": []
  },
  "kernelspec": {
   "display_name": "Python 3 (ipykernel)",
   "name": "python3",
   "language": "python"
  },
  "language_info": {
   "name": "python"
  }
 },
 "nbformat": 4,
 "nbformat_minor": 0
}

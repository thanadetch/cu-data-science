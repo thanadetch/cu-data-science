{
 "cells": [
  {
   "cell_type": "code",
   "id": "initial_id",
   "metadata": {
    "collapsed": true,
    "ExecuteTime": {
     "end_time": "2024-08-31T18:57:31.584724Z",
     "start_time": "2024-08-31T18:57:31.581518Z"
    }
   },
   "source": [
    "import pandas as pd\n",
    "from student import Q1, Q2, Q3, Q4, Q5\n"
   ],
   "outputs": [],
   "execution_count": 5
  },
  {
   "metadata": {},
   "cell_type": "code",
   "source": [
    "data = pd.read_csv('./data/USvideos.csv')\n",
    "data = data.drop_duplicates()\n",
    "\n",
    "print(f'Q1: {Q1()}')\n",
    "print(f'Q2: {Q2(data)}')\n",
    "print(f'Q3: {Q3(data)}')\n",
    "print(f'Q4: {Q4(data)}')\n",
    "print(f'Q5: {Q5(data)}')"
   ],
   "id": "4724478091650508",
   "outputs": [],
   "execution_count": null
  }
 ],
 "metadata": {
  "kernelspec": {
   "display_name": "Python 3",
   "language": "python",
   "name": "python3"
  },
  "language_info": {
   "codemirror_mode": {
    "name": "ipython",
    "version": 2
   },
   "file_extension": ".py",
   "mimetype": "text/x-python",
   "name": "python",
   "nbconvert_exporter": "python",
   "pygments_lexer": "ipython2",
   "version": "2.7.6"
  }
 },
 "nbformat": 4,
 "nbformat_minor": 5
}

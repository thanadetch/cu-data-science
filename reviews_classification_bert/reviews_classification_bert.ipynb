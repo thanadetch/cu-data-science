{
 "cells": [
  {
   "cell_type": "code",
   "id": "initial_id",
   "metadata": {
    "collapsed": true,
    "ExecuteTime": {
     "end_time": "2024-09-30T17:52:58.864942Z",
     "start_time": "2024-09-30T17:52:49.206826Z"
    }
   },
   "source": [
    "# Data processing\n",
    "import pandas as pd\n",
    "import numpy as np\n",
    "\n",
    "# Modeling\n",
    "import tensorflow as tf\n",
    "from transformers import AutoTokenizer, AutoModelForSequenceClassification, TrainingArguments, Trainer, EarlyStoppingCallback, TextClassificationPipeline\n",
    "\n",
    "# Hugging Face Dataset\n",
    "from datasets import Dataset\n",
    "\n",
    "# Model performance evaluation\n",
    "import evaluate"
   ],
   "outputs": [],
   "execution_count": 1
  },
  {
   "metadata": {
    "ExecuteTime": {
     "end_time": "2024-09-30T17:52:58.879192Z",
     "start_time": "2024-09-30T17:52:58.870047Z"
    }
   },
   "cell_type": "code",
   "source": [
    "# Read in data\n",
    "path = \"data/amazon_cells_labelled.txt\"\n",
    "amz_review = pd.read_csv(path, sep='\\t', names=['review', 'label'])\n",
    "# Take a look at the data\n",
    "amz_review.head()\n",
    "\n",
    "# Take a look at the data\n",
    "amz_review.head()"
   ],
   "id": "b905ac3268c12e25",
   "outputs": [
    {
     "data": {
      "text/plain": [
       "                                              review  label\n",
       "0  So there is no way for me to plug it in here i...      0\n",
       "1                        Good case, Excellent value.      1\n",
       "2                             Great for the jawbone.      1\n",
       "3  Tied to charger for conversations lasting more...      0\n",
       "4                                  The mic is great.      1"
      ],
      "text/html": [
       "<div>\n",
       "<style scoped>\n",
       "    .dataframe tbody tr th:only-of-type {\n",
       "        vertical-align: middle;\n",
       "    }\n",
       "\n",
       "    .dataframe tbody tr th {\n",
       "        vertical-align: top;\n",
       "    }\n",
       "\n",
       "    .dataframe thead th {\n",
       "        text-align: right;\n",
       "    }\n",
       "</style>\n",
       "<table border=\"1\" class=\"dataframe\">\n",
       "  <thead>\n",
       "    <tr style=\"text-align: right;\">\n",
       "      <th></th>\n",
       "      <th>review</th>\n",
       "      <th>label</th>\n",
       "    </tr>\n",
       "  </thead>\n",
       "  <tbody>\n",
       "    <tr>\n",
       "      <th>0</th>\n",
       "      <td>So there is no way for me to plug it in here i...</td>\n",
       "      <td>0</td>\n",
       "    </tr>\n",
       "    <tr>\n",
       "      <th>1</th>\n",
       "      <td>Good case, Excellent value.</td>\n",
       "      <td>1</td>\n",
       "    </tr>\n",
       "    <tr>\n",
       "      <th>2</th>\n",
       "      <td>Great for the jawbone.</td>\n",
       "      <td>1</td>\n",
       "    </tr>\n",
       "    <tr>\n",
       "      <th>3</th>\n",
       "      <td>Tied to charger for conversations lasting more...</td>\n",
       "      <td>0</td>\n",
       "    </tr>\n",
       "    <tr>\n",
       "      <th>4</th>\n",
       "      <td>The mic is great.</td>\n",
       "      <td>1</td>\n",
       "    </tr>\n",
       "  </tbody>\n",
       "</table>\n",
       "</div>"
      ]
     },
     "execution_count": 2,
     "metadata": {},
     "output_type": "execute_result"
    }
   ],
   "execution_count": 2
  },
  {
   "metadata": {
    "ExecuteTime": {
     "end_time": "2024-09-30T17:52:58.978727Z",
     "start_time": "2024-09-30T17:52:58.969505Z"
    }
   },
   "cell_type": "code",
   "source": [
    "# Get the dataset information\n",
    "amz_review.info()"
   ],
   "id": "a88d3750fb159111",
   "outputs": [
    {
     "name": "stdout",
     "output_type": "stream",
     "text": [
      "<class 'pandas.core.frame.DataFrame'>\n",
      "RangeIndex: 1000 entries, 0 to 999\n",
      "Data columns (total 2 columns):\n",
      " #   Column  Non-Null Count  Dtype \n",
      "---  ------  --------------  ----- \n",
      " 0   review  1000 non-null   object\n",
      " 1   label   1000 non-null   int64 \n",
      "dtypes: int64(1), object(1)\n",
      "memory usage: 15.8+ KB\n"
     ]
    }
   ],
   "execution_count": 3
  },
  {
   "metadata": {
    "ExecuteTime": {
     "end_time": "2024-09-30T17:52:59.016656Z",
     "start_time": "2024-09-30T17:52:59.004049Z"
    }
   },
   "cell_type": "code",
   "source": [
    "# Check the label distribution\n",
    "amz_review['label'].value_counts()"
   ],
   "id": "13883bf2fa9355ee",
   "outputs": [
    {
     "data": {
      "text/plain": [
       "label\n",
       "0    500\n",
       "1    500\n",
       "Name: count, dtype: int64"
      ]
     },
     "execution_count": 4,
     "metadata": {},
     "output_type": "execute_result"
    }
   ],
   "execution_count": 4
  },
  {
   "metadata": {
    "ExecuteTime": {
     "end_time": "2024-09-30T17:52:59.460073Z",
     "start_time": "2024-09-30T17:52:59.406555Z"
    }
   },
   "cell_type": "code",
   "source": [
    "from sklearn.model_selection import train_test_split\n",
    "\n",
    "# Split the data into a temporary training set (60%) and a temporary test set (40%)\n",
    "train_data, test_data = train_test_split(\n",
    "    amz_review, test_size=0.4, stratify=amz_review['label'], random_state=42\n",
    ")\n",
    "\n",
    "# Split the temporary test set into validation (50%) and test (50%)\n",
    "val_data, test_data = train_test_split(\n",
    "    test_data, test_size=0.5, stratify=test_data['label'], random_state=42\n",
    ")"
   ],
   "id": "6a67c03d6d84b517",
   "outputs": [],
   "execution_count": 5
  },
  {
   "metadata": {
    "ExecuteTime": {
     "end_time": "2024-09-30T17:52:59.519853Z",
     "start_time": "2024-09-30T17:52:59.493389Z"
    }
   },
   "cell_type": "code",
   "source": [
    "# Convert pyhton dataframe to Hugging Face arrow dataset\n",
    "hg_train_data = Dataset.from_pandas(train_data)\n",
    "hg_val_data = Dataset.from_pandas(val_data)\n",
    "hg_test_data = Dataset.from_pandas(test_data)"
   ],
   "id": "af15a113005cc93",
   "outputs": [],
   "execution_count": 6
  },
  {
   "metadata": {
    "ExecuteTime": {
     "end_time": "2024-09-30T17:52:59.542938Z",
     "start_time": "2024-09-30T17:52:59.538651Z"
    }
   },
   "cell_type": "code",
   "source": [
    "# Length of the Dataset\n",
    "print(f'The length of hg_train_data is {len(hg_train_data)}.\\n')\n",
    "\n",
    "# Check one review\n",
    "hg_train_data[0]"
   ],
   "id": "e7f098c491beb72b",
   "outputs": [
    {
     "name": "stdout",
     "output_type": "stream",
     "text": [
      "The length of hg_train_data is 600.\n",
      "\n"
     ]
    },
    {
     "data": {
      "text/plain": [
       "{'review': \"I bought this battery with a coupon from Amazon and I'm very happy with my purchase.\",\n",
       " 'label': 1,\n",
       " '__index_level_0__': 793}"
      ]
     },
     "execution_count": 7,
     "metadata": {},
     "output_type": "execute_result"
    }
   ],
   "execution_count": 7
  },
  {
   "metadata": {
    "ExecuteTime": {
     "end_time": "2024-09-30T17:52:59.566676Z",
     "start_time": "2024-09-30T17:52:59.563255Z"
    }
   },
   "cell_type": "code",
   "source": [
    "# Validate the record in pandas dataframe\n",
    "amz_review.iloc[[793]]"
   ],
   "id": "3b664c061d3d1f00",
   "outputs": [
    {
     "data": {
      "text/plain": [
       "                                                review  label\n",
       "793  I bought this battery with a coupon from Amazo...      1"
      ],
      "text/html": [
       "<div>\n",
       "<style scoped>\n",
       "    .dataframe tbody tr th:only-of-type {\n",
       "        vertical-align: middle;\n",
       "    }\n",
       "\n",
       "    .dataframe tbody tr th {\n",
       "        vertical-align: top;\n",
       "    }\n",
       "\n",
       "    .dataframe thead th {\n",
       "        text-align: right;\n",
       "    }\n",
       "</style>\n",
       "<table border=\"1\" class=\"dataframe\">\n",
       "  <thead>\n",
       "    <tr style=\"text-align: right;\">\n",
       "      <th></th>\n",
       "      <th>review</th>\n",
       "      <th>label</th>\n",
       "    </tr>\n",
       "  </thead>\n",
       "  <tbody>\n",
       "    <tr>\n",
       "      <th>793</th>\n",
       "      <td>I bought this battery with a coupon from Amazo...</td>\n",
       "      <td>1</td>\n",
       "    </tr>\n",
       "  </tbody>\n",
       "</table>\n",
       "</div>"
      ]
     },
     "execution_count": 8,
     "metadata": {},
     "output_type": "execute_result"
    }
   ],
   "execution_count": 8
  },
  {
   "metadata": {
    "ExecuteTime": {
     "end_time": "2024-09-30T17:53:00.136061Z",
     "start_time": "2024-09-30T17:52:59.622957Z"
    }
   },
   "cell_type": "code",
   "source": [
    "# Tokenizer from a pretrained model\n",
    "tokenizer = AutoTokenizer.from_pretrained(\"bert-base-cased\")\n",
    "\n",
    "# Take a look at the tokenizer\n",
    "tokenizer"
   ],
   "id": "a72a8184ca7c1637",
   "outputs": [
    {
     "name": "stderr",
     "output_type": "stream",
     "text": [
      "/Users/thanadetch/works/cu-data-science/.venv/lib/python3.12/site-packages/transformers/tokenization_utils_base.py:1617: FutureWarning: `clean_up_tokenization_spaces` was not set. It will be set to `True` by default. This behavior will be deprecated in transformers v4.45, and will be then set to `False` by default. For more details check this issue: https://github.com/huggingface/transformers/issues/31884\n",
      "  warnings.warn(\n"
     ]
    },
    {
     "data": {
      "text/plain": [
       "BertTokenizerFast(name_or_path='bert-base-cased', vocab_size=28996, model_max_length=512, is_fast=True, padding_side='right', truncation_side='right', special_tokens={'unk_token': '[UNK]', 'sep_token': '[SEP]', 'pad_token': '[PAD]', 'cls_token': '[CLS]', 'mask_token': '[MASK]'}, clean_up_tokenization_spaces=False),  added_tokens_decoder={\n",
       "\t0: AddedToken(\"[PAD]\", rstrip=False, lstrip=False, single_word=False, normalized=False, special=True),\n",
       "\t100: AddedToken(\"[UNK]\", rstrip=False, lstrip=False, single_word=False, normalized=False, special=True),\n",
       "\t101: AddedToken(\"[CLS]\", rstrip=False, lstrip=False, single_word=False, normalized=False, special=True),\n",
       "\t102: AddedToken(\"[SEP]\", rstrip=False, lstrip=False, single_word=False, normalized=False, special=True),\n",
       "\t103: AddedToken(\"[MASK]\", rstrip=False, lstrip=False, single_word=False, normalized=False, special=True),\n",
       "}"
      ]
     },
     "execution_count": 9,
     "metadata": {},
     "output_type": "execute_result"
    }
   ],
   "execution_count": 9
  },
  {
   "metadata": {
    "ExecuteTime": {
     "end_time": "2024-09-30T17:53:00.179701Z",
     "start_time": "2024-09-30T17:53:00.174947Z"
    }
   },
   "cell_type": "code",
   "source": [
    "# Mapping between special tokens and their IDs.\n",
    "print(f'The unknown token is {tokenizer.unk_token} and the ID for the unkown token is {tokenizer.unk_token_id}.')\n",
    "print(f'The seperator token is {tokenizer.sep_token} and the ID for the seperator token is {tokenizer.sep_token_id}.')\n",
    "print(f'The pad token is {tokenizer.pad_token} and the ID for the pad token is {tokenizer.pad_token_id}.')\n",
    "print(f'The sentence level classification token is {tokenizer.cls_token} and the ID for the classification token is {tokenizer.cls_token_id}.')\n",
    "print(f'The mask token is {tokenizer.mask_token} and the ID for the mask token is {tokenizer.mask_token_id}.')"
   ],
   "id": "49da638cca23d6a7",
   "outputs": [
    {
     "name": "stdout",
     "output_type": "stream",
     "text": [
      "The unknown token is [UNK] and the ID for the unkown token is 100.\n",
      "The seperator token is [SEP] and the ID for the seperator token is 102.\n",
      "The pad token is [PAD] and the ID for the pad token is 0.\n",
      "The sentence level classification token is [CLS] and the ID for the classification token is 101.\n",
      "The mask token is [MASK] and the ID for the mask token is 103.\n"
     ]
    }
   ],
   "execution_count": 10
  },
  {
   "metadata": {
    "ExecuteTime": {
     "end_time": "2024-09-30T17:53:00.369231Z",
     "start_time": "2024-09-30T17:53:00.219292Z"
    }
   },
   "cell_type": "code",
   "source": [
    "# Funtion to tokenize data\n",
    "def tokenize_dataset(data):\n",
    "    return tokenizer(data[\"review\"],\n",
    "                     max_length=32,\n",
    "                     truncation=True,\n",
    "                     padding=\"max_length\")\n",
    "\n",
    "# Tokenize the dataset\n",
    "dataset_train = hg_train_data.map(tokenize_dataset)\n",
    "dataset_val = hg_val_data.map(tokenize_dataset)\n",
    "dataset_test = hg_test_data.map(tokenize_dataset)"
   ],
   "id": "376b20a5ef8a162b",
   "outputs": [
    {
     "data": {
      "text/plain": [
       "Map:   0%|          | 0/600 [00:00<?, ? examples/s]"
      ],
      "application/vnd.jupyter.widget-view+json": {
       "version_major": 2,
       "version_minor": 0,
       "model_id": "26d8681a8a4f405ca35beaa644a3d2e9"
      }
     },
     "metadata": {},
     "output_type": "display_data"
    },
    {
     "data": {
      "text/plain": [
       "Map:   0%|          | 0/200 [00:00<?, ? examples/s]"
      ],
      "application/vnd.jupyter.widget-view+json": {
       "version_major": 2,
       "version_minor": 0,
       "model_id": "7c86c9f34e6f46039a45fe80bb4e9930"
      }
     },
     "metadata": {},
     "output_type": "display_data"
    },
    {
     "data": {
      "text/plain": [
       "Map:   0%|          | 0/200 [00:00<?, ? examples/s]"
      ],
      "application/vnd.jupyter.widget-view+json": {
       "version_major": 2,
       "version_minor": 0,
       "model_id": "efc3104af54f4e78b7f0dbf1b4197333"
      }
     },
     "metadata": {},
     "output_type": "display_data"
    }
   ],
   "execution_count": 11
  },
  {
   "metadata": {
    "ExecuteTime": {
     "end_time": "2024-09-30T17:53:00.381971Z",
     "start_time": "2024-09-30T17:53:00.378780Z"
    }
   },
   "cell_type": "code",
   "source": [
    "# Take a look at the data\n",
    "print(dataset_train)\n",
    "print(dataset_val)\n",
    "print(dataset_test)"
   ],
   "id": "7127f0d1db85e93b",
   "outputs": [
    {
     "name": "stdout",
     "output_type": "stream",
     "text": [
      "Dataset({\n",
      "    features: ['review', 'label', '__index_level_0__', 'input_ids', 'token_type_ids', 'attention_mask'],\n",
      "    num_rows: 600\n",
      "})\n",
      "Dataset({\n",
      "    features: ['review', 'label', '__index_level_0__', 'input_ids', 'token_type_ids', 'attention_mask'],\n",
      "    num_rows: 200\n",
      "})\n",
      "Dataset({\n",
      "    features: ['review', 'label', '__index_level_0__', 'input_ids', 'token_type_ids', 'attention_mask'],\n",
      "    num_rows: 200\n",
      "})\n"
     ]
    }
   ],
   "execution_count": 12
  },
  {
   "metadata": {
    "ExecuteTime": {
     "end_time": "2024-09-30T17:53:00.815394Z",
     "start_time": "2024-09-30T17:53:00.451332Z"
    }
   },
   "cell_type": "code",
   "source": [
    "# Load model\n",
    "model = AutoModelForSequenceClassification.from_pretrained(\"bert-base-cased\", num_labels=2)"
   ],
   "id": "ecf8a7f43effdb86",
   "outputs": [
    {
     "name": "stderr",
     "output_type": "stream",
     "text": [
      "Some weights of BertForSequenceClassification were not initialized from the model checkpoint at bert-base-cased and are newly initialized: ['classifier.bias', 'classifier.weight']\n",
      "You should probably TRAIN this model on a down-stream task to be able to use it for predictions and inference.\n"
     ]
    }
   ],
   "execution_count": 13
  },
  {
   "metadata": {
    "ExecuteTime": {
     "end_time": "2024-09-30T17:53:07.906939Z",
     "start_time": "2024-09-30T17:53:07.901825Z"
    }
   },
   "cell_type": "code",
   "source": [
    "# Set up training arguments\n",
    "training_args = TrainingArguments(\n",
    "    output_dir=\"./sentiment_transfer_learning_transformer/\",\n",
    "    logging_dir='./sentiment_transfer_learning_transformer/logs',\n",
    "    logging_strategy='epoch',\n",
    "    logging_steps=100,\n",
    "    num_train_epochs=2,\n",
    "    per_device_train_batch_size=4,\n",
    "    per_device_eval_batch_size=4,\n",
    "    learning_rate=5e-6,\n",
    "    seed=42,\n",
    "    save_strategy='epoch',\n",
    "    save_steps=100,\n",
    "    eval_strategy='epoch',\n",
    "    eval_steps=100,\n",
    "    load_best_model_at_end=True\n",
    ")"
   ],
   "id": "3c14a4de77eeb3bd",
   "outputs": [],
   "execution_count": 18
  },
  {
   "metadata": {
    "ExecuteTime": {
     "end_time": "2024-09-30T17:53:35.596254Z",
     "start_time": "2024-09-30T17:53:31.933027Z"
    }
   },
   "cell_type": "code",
   "source": [
    "# Number of evaluation modules\n",
    "print(f'There are {len(evaluate.list_evaluation_modules())} evaluation models in Hugging Face.\\n')\n",
    "\n",
    "# List all evaluation metrics\n",
    "evaluate.list_evaluation_modules()"
   ],
   "id": "a18b97aecc984380",
   "outputs": [
    {
     "name": "stdout",
     "output_type": "stream",
     "text": [
      "There are 190 evaluation models in Hugging Face.\n",
      "\n"
     ]
    },
    {
     "data": {
      "text/plain": [
       "['Remeris/rouge_ru',\n",
       " 'lvwerra/test',\n",
       " 'jordyvl/ece',\n",
       " 'angelina-wang/directional_bias_amplification',\n",
       " 'cpllab/syntaxgym',\n",
       " 'lvwerra/bary_score',\n",
       " 'hack/test_metric',\n",
       " 'yzha/ctc_eval',\n",
       " 'codeparrot/apps_metric',\n",
       " 'mfumanelli/geometric_mean',\n",
       " 'daiyizheng/valid',\n",
       " 'erntkn/dice_coefficient',\n",
       " 'mgfrantz/roc_auc_macro',\n",
       " 'Vlasta/pr_auc',\n",
       " 'gorkaartola/metric_for_tp_fp_samples',\n",
       " 'idsedykh/metric',\n",
       " 'idsedykh/codebleu2',\n",
       " 'idsedykh/codebleu',\n",
       " 'idsedykh/megaglue',\n",
       " 'christopher/ndcg',\n",
       " 'Vertaix/vendiscore',\n",
       " 'GMFTBY/dailydialogevaluate',\n",
       " 'GMFTBY/dailydialog_evaluate',\n",
       " 'jzm-mailchimp/joshs_second_test_metric',\n",
       " 'ola13/precision_at_k',\n",
       " 'yulong-me/yl_metric',\n",
       " 'abidlabs/mean_iou',\n",
       " 'abidlabs/mean_iou2',\n",
       " 'KevinSpaghetti/accuracyk',\n",
       " 'NimaBoscarino/weat',\n",
       " 'ronaldahmed/nwentfaithfulness',\n",
       " 'Viona/infolm',\n",
       " 'kyokote/my_metric2',\n",
       " 'kashif/mape',\n",
       " 'Ochiroo/rouge_mn',\n",
       " 'giulio98/code_eval_outputs',\n",
       " 'leslyarun/fbeta_score',\n",
       " 'giulio98/codebleu',\n",
       " 'anz2/iliauniiccocrevaluation',\n",
       " 'zbeloki/m2',\n",
       " 'xu1998hz/sescore',\n",
       " 'dvitel/codebleu',\n",
       " 'NCSOFT/harim_plus',\n",
       " 'JP-SystemsX/nDCG',\n",
       " 'sportlosos/sescore',\n",
       " 'Drunper/metrica_tesi',\n",
       " 'jpxkqx/peak_signal_to_noise_ratio',\n",
       " 'jpxkqx/signal_to_reconstruction_error',\n",
       " 'hpi-dhc/FairEval',\n",
       " 'lvwerra/accuracy_score',\n",
       " 'ybelkada/cocoevaluate',\n",
       " 'harshhpareek/bertscore',\n",
       " 'posicube/mean_reciprocal_rank',\n",
       " 'bstrai/classification_report',\n",
       " 'omidf/squad_precision_recall',\n",
       " 'Josh98/nl2bash_m',\n",
       " 'BucketHeadP65/confusion_matrix',\n",
       " 'BucketHeadP65/roc_curve',\n",
       " 'yonting/average_precision_score',\n",
       " 'transZ/test_parascore',\n",
       " 'transZ/sbert_cosine',\n",
       " 'hynky/sklearn_proxy',\n",
       " 'xu1998hz/sescore_english_mt',\n",
       " 'xu1998hz/sescore_german_mt',\n",
       " 'xu1998hz/sescore_english_coco',\n",
       " 'xu1998hz/sescore_english_webnlg',\n",
       " 'unnati/kendall_tau_distance',\n",
       " 'Viona/fuzzy_reordering',\n",
       " 'Viona/kendall_tau',\n",
       " 'lhy/hamming_loss',\n",
       " 'lhy/ranking_loss',\n",
       " 'Muennighoff/code_eval_octopack',\n",
       " 'yuyijiong/quad_match_score',\n",
       " 'Splend1dchan/cosine_similarity',\n",
       " 'AlhitawiMohammed22/CER_Hu-Evaluation-Metrics',\n",
       " 'Yeshwant123/mcc',\n",
       " 'phonemetransformers/segmentation_scores',\n",
       " 'sma2023/wil',\n",
       " 'chanelcolgate/average_precision',\n",
       " 'ckb/unigram',\n",
       " 'Felipehonorato/eer',\n",
       " 'manueldeprada/beer',\n",
       " 'shunzh/apps_metric',\n",
       " 'He-Xingwei/sari_metric',\n",
       " 'langdonholmes/cohen_weighted_kappa',\n",
       " 'fschlatt/ner_eval',\n",
       " 'hyperml/balanced_accuracy',\n",
       " 'brian920128/doc_retrieve_metrics',\n",
       " 'guydav/restrictedpython_code_eval',\n",
       " 'k4black/codebleu',\n",
       " 'Natooz/ece',\n",
       " 'ingyu/klue_mrc',\n",
       " 'Vipitis/shadermatch',\n",
       " 'gabeorlanski/bc_eval',\n",
       " 'jjkim0807/code_eval',\n",
       " 'repllabs/mean_reciprocal_rank',\n",
       " 'repllabs/mean_average_precision',\n",
       " 'mtc/fragments',\n",
       " 'DarrenChensformer/eval_keyphrase',\n",
       " 'kedudzic/charmatch',\n",
       " 'Vallp/ter',\n",
       " 'DarrenChensformer/relation_extraction',\n",
       " 'Ikala-allen/relation_extraction',\n",
       " 'danieldux/hierarchical_softmax_loss',\n",
       " 'nlpln/tst',\n",
       " 'bdsaglam/jer',\n",
       " 'davebulaval/meaningbert',\n",
       " 'fnvls/bleu1234',\n",
       " 'fnvls/bleu_1234',\n",
       " 'nevikw39/specificity',\n",
       " 'yqsong/execution_accuracy',\n",
       " 'shalakasatheesh/squad_v2',\n",
       " 'arthurvqin/pr_auc',\n",
       " 'd-matrix/dmx_perplexity',\n",
       " 'akki2825/accents_unplugged_eval',\n",
       " 'juliakaczor/accents_unplugged_eval',\n",
       " 'chimene/accents_unplugged_eval',\n",
       " 'Vickyage/accents_unplugged_eval',\n",
       " 'Qui-nn/accents_unplugged_eval',\n",
       " 'TelEl/accents_unplugged_eval',\n",
       " 'livvie/accents_unplugged_eval',\n",
       " 'DaliaCaRo/accents_unplugged_eval',\n",
       " 'alvinasvk/accents_unplugged_eval',\n",
       " 'LottieW/accents_unplugged_eval',\n",
       " 'LuckiestOne/valid_efficiency_score',\n",
       " 'Fritz02/execution_accuracy',\n",
       " 'huanghuayu/multiclass_brier_score',\n",
       " 'jialinsong/apps_metric',\n",
       " 'DoctorSlimm/bangalore_score',\n",
       " 'agkphysics/ccc',\n",
       " 'DoctorSlimm/kaushiks_criteria',\n",
       " 'CZLC/rouge_raw',\n",
       " 'bascobasculino/mot-metrics',\n",
       " 'SEA-AI/mot-metrics',\n",
       " 'SEA-AI/det-metrics',\n",
       " 'saicharan2804/my_metric',\n",
       " 'red1bluelost/evaluate_genericify_cpp',\n",
       " 'maksymdolgikh/seqeval_with_fbeta',\n",
       " 'Bekhouche/NED',\n",
       " 'danieldux/isco_hierarchical_accuracy',\n",
       " 'ginic/phone_errors',\n",
       " 'haotongye-shopee/ppl',\n",
       " 'berkatil/map',\n",
       " 'DarrenChensformer/action_generation',\n",
       " 'buelfhood/fbeta_score',\n",
       " 'danasone/ru_errant',\n",
       " 'helena-balabin/youden_index',\n",
       " 'SEA-AI/panoptic-quality',\n",
       " 'SEA-AI/box-metrics',\n",
       " 'MathewShen/bleu',\n",
       " 'berkatil/mrr',\n",
       " 'BridgeAI-Lab/SemF1',\n",
       " 'SEA-AI/horizon-metrics',\n",
       " 'bdsaglam/musique',\n",
       " 'maysonma/lingo_judge_metric',\n",
       " 'dannashao/span_metric',\n",
       " 'Aye10032/loss_metric',\n",
       " 'ag2435/my_metric',\n",
       " 'mlcore/arxiv_score',\n",
       " 'bomjin/code_eval_octopack',\n",
       " 'svenwey/logmetric',\n",
       " 'bowdbeg/matching_series',\n",
       " 'BridgeAI-Lab/Sem-nCG',\n",
       " 'bowdbeg/patch_series',\n",
       " 'whyen-wang/my_metric',\n",
       " 'venkatasg/gleu',\n",
       " 'florentgbelidji/f1',\n",
       " 'kbmlcoding/apps_metric',\n",
       " 'jijihuny/ecqa',\n",
       " 'prajwall/mse',\n",
       " 'd-matrix/dmxMetric',\n",
       " 'dotkaio/competition_math',\n",
       " 'bowdbeg/docred',\n",
       " 'jimmyzxj/atometric',\n",
       " 'jarod0411/aucpr',\n",
       " 'Ruchin/jaccard_similarity',\n",
       " 'ncoop57/levenshtein_distance',\n",
       " 'kaleidophon/almost_stochastic_order',\n",
       " 'NeuraFusionAI/Arabic-Evaluation',\n",
       " 'lvwerra/element_count',\n",
       " 'prb977/cooccurrence_count',\n",
       " 'NimaBoscarino/pseudo_perplexity',\n",
       " 'ybelkada/toxicity',\n",
       " 'ronaldahmed/ccl_win',\n",
       " 'christopher/tokens_per_byte',\n",
       " 'lsy641/distinct',\n",
       " 'grepLeigh/perplexity',\n",
       " 'Charles95/element_count',\n",
       " 'Charles95/accuracy',\n",
       " 'Lucky28/honest']"
      ]
     },
     "execution_count": 19,
     "metadata": {},
     "output_type": "execute_result"
    }
   ],
   "execution_count": 19
  },
  {
   "metadata": {
    "ExecuteTime": {
     "end_time": "2024-09-30T17:54:39.714260Z",
     "start_time": "2024-09-30T17:54:39.708708Z"
    }
   },
   "cell_type": "code",
   "source": [
    "# Function to compute the metric\n",
    "def compute_metrics(eval_pred):\n",
    "    metric = evaluate.load(\"accuracy\")\n",
    "    logits, labels = eval_pred\n",
    "    # probabilities = tf.nn.softmax(logits)\n",
    "    predictions = np.argmax(logits, axis=1)\n",
    "    return metric.compute(predictions=predictions, references=labels)"
   ],
   "id": "a414aff34766559",
   "outputs": [],
   "execution_count": 20
  },
  {
   "metadata": {
    "ExecuteTime": {
     "end_time": "2024-09-30T18:03:37.678816Z",
     "start_time": "2024-09-30T18:01:50.960814Z"
    }
   },
   "cell_type": "code",
   "source": [
    "# Train the model\n",
    "trainer = Trainer(\n",
    "    model=model,\n",
    "    args=training_args,\n",
    "    train_dataset=dataset_train,\n",
    "    eval_dataset=dataset_val,\n",
    "    compute_metrics=compute_metrics,\n",
    "    callbacks=[EarlyStoppingCallback(early_stopping_patience=1)]\n",
    ")\n",
    "\n",
    "trainer.train()"
   ],
   "id": "ea8e603f7833fd58",
   "outputs": [
    {
     "data": {
      "text/plain": [
       "<IPython.core.display.HTML object>"
      ],
      "text/html": [
       "\n",
       "    <div>\n",
       "      \n",
       "      <progress value='300' max='300' style='width:300px; height:20px; vertical-align: middle;'></progress>\n",
       "      [300/300 01:45, Epoch 2/2]\n",
       "    </div>\n",
       "    <table border=\"1\" class=\"dataframe\">\n",
       "  <thead>\n",
       " <tr style=\"text-align: left;\">\n",
       "      <th>Epoch</th>\n",
       "      <th>Training Loss</th>\n",
       "      <th>Validation Loss</th>\n",
       "      <th>Accuracy</th>\n",
       "    </tr>\n",
       "  </thead>\n",
       "  <tbody>\n",
       "    <tr>\n",
       "      <td>1</td>\n",
       "      <td>0.257100</td>\n",
       "      <td>0.244681</td>\n",
       "      <td>0.895000</td>\n",
       "    </tr>\n",
       "    <tr>\n",
       "      <td>2</td>\n",
       "      <td>0.105500</td>\n",
       "      <td>0.275707</td>\n",
       "      <td>0.900000</td>\n",
       "    </tr>\n",
       "  </tbody>\n",
       "</table><p>"
      ]
     },
     "metadata": {},
     "output_type": "display_data"
    },
    {
     "data": {
      "text/plain": [
       "TrainOutput(global_step=300, training_loss=0.1812740421295166, metrics={'train_runtime': 106.3527, 'train_samples_per_second': 11.283, 'train_steps_per_second': 2.821, 'total_flos': 19733329152000.0, 'train_loss': 0.1812740421295166, 'epoch': 2.0})"
      ]
     },
     "execution_count": 22,
     "metadata": {},
     "output_type": "execute_result"
    }
   ],
   "execution_count": 22
  },
  {
   "metadata": {
    "ExecuteTime": {
     "end_time": "2024-09-30T18:10:40.133210Z",
     "start_time": "2024-09-30T18:10:35.304543Z"
    }
   },
   "cell_type": "code",
   "source": [
    "# Predictions\n",
    "y_test_predict = trainer.predict(dataset_test)\n",
    "\n",
    "# Take a look at the predictions\n",
    "y_test_predict"
   ],
   "id": "8290e98b938cb0a7",
   "outputs": [
    {
     "data": {
      "text/plain": [
       "<IPython.core.display.HTML object>"
      ],
      "text/html": []
     },
     "metadata": {},
     "output_type": "display_data"
    },
    {
     "data": {
      "text/plain": [
       "PredictionOutput(predictions=array([[-1.5654663 ,  2.3990934 ],\n",
       "       [ 1.7581693 , -0.6715308 ],\n",
       "       [ 0.09052113,  1.02621   ],\n",
       "       [-2.4650466 ,  2.794814  ],\n",
       "       [ 0.9079242 ,  0.28788352],\n",
       "       [-1.5788181 ,  2.4674635 ],\n",
       "       [ 1.2817857 , -0.357408  ],\n",
       "       [ 1.5299478 , -0.43254912],\n",
       "       [-2.3842678 ,  2.5726216 ],\n",
       "       [-2.107672  ,  2.7823431 ],\n",
       "       [ 1.7868149 , -0.69429886],\n",
       "       [ 1.7423849 , -0.5829625 ],\n",
       "       [ 1.71223   , -0.56120944],\n",
       "       [ 1.6318128 , -0.6738697 ],\n",
       "       [-0.4429009 ,  1.7435055 ],\n",
       "       [-2.567539  ,  2.6445045 ],\n",
       "       [ 1.8519938 , -0.71804506],\n",
       "       [ 0.29203394,  0.57320195],\n",
       "       [ 1.8237321 , -0.7084937 ],\n",
       "       [ 1.6794803 , -0.41436952],\n",
       "       [-0.8883786 ,  1.870488  ],\n",
       "       [-0.76079154,  1.7905223 ],\n",
       "       [ 1.7798735 , -0.5307578 ],\n",
       "       [-2.4459465 ,  2.6110325 ],\n",
       "       [-0.6942134 ,  1.7669176 ],\n",
       "       [ 1.76245   , -0.66160893],\n",
       "       [ 1.4274702 , -0.37966722],\n",
       "       [ 1.6194515 , -0.5098018 ],\n",
       "       [-2.4685762 ,  2.249294  ],\n",
       "       [ 1.7022213 , -0.49569702],\n",
       "       [ 1.0777134 ,  0.15504478],\n",
       "       [ 1.8299198 , -0.6179896 ],\n",
       "       [-2.5326436 ,  2.8228505 ],\n",
       "       [-0.4562284 ,  1.5997258 ],\n",
       "       [ 1.7362279 , -0.6095737 ],\n",
       "       [ 1.7857926 , -0.6543355 ],\n",
       "       [-1.1753596 ,  2.3486607 ],\n",
       "       [ 1.6796801 , -0.6459796 ],\n",
       "       [-2.3129008 ,  2.7291133 ],\n",
       "       [-2.377735  ,  2.6693623 ],\n",
       "       [-2.3702424 ,  2.9509962 ],\n",
       "       [-2.492841  ,  2.638909  ],\n",
       "       [-1.4474137 ,  2.279884  ],\n",
       "       [-0.61093897,  1.8127654 ],\n",
       "       [ 1.7351702 , -0.5986251 ],\n",
       "       [ 1.7594494 , -0.6533936 ],\n",
       "       [-2.2118685 ,  2.637264  ],\n",
       "       [-1.1963776 ,  2.2366629 ],\n",
       "       [ 1.6712108 , -0.6619332 ],\n",
       "       [-0.51950145,  1.5616865 ],\n",
       "       [ 1.7959932 , -0.6440628 ],\n",
       "       [-0.40202302,  1.4887152 ],\n",
       "       [ 1.7245374 , -0.6243868 ],\n",
       "       [ 1.1960086 , -0.07777545],\n",
       "       [-1.9857347 ,  2.7592964 ],\n",
       "       [ 1.8556305 , -0.7519449 ],\n",
       "       [ 1.6408336 , -0.45494702],\n",
       "       [ 1.6686773 , -0.5833379 ],\n",
       "       [-2.4819875 ,  2.885046  ],\n",
       "       [-0.43679655,  1.536254  ],\n",
       "       [ 1.5900278 , -0.49769446],\n",
       "       [ 1.7726744 , -0.57338595],\n",
       "       [-2.4095857 ,  2.7483132 ],\n",
       "       [ 1.7309144 , -0.53089267],\n",
       "       [ 1.7231567 , -0.7102486 ],\n",
       "       [-2.1159382 ,  2.605604  ],\n",
       "       [ 1.0609508 , -0.03859536],\n",
       "       [ 1.7663085 , -0.6820325 ],\n",
       "       [-1.8416591 ,  2.7379553 ],\n",
       "       [ 1.8233175 , -0.6512366 ],\n",
       "       [-1.8721197 ,  2.6158822 ],\n",
       "       [ 1.6841531 , -0.6185378 ],\n",
       "       [ 1.3319081 , -0.38313735],\n",
       "       [ 1.859062  , -0.6743283 ],\n",
       "       [ 1.7350302 , -0.48281816],\n",
       "       [-2.50604   ,  2.4560618 ],\n",
       "       [ 1.6435642 , -0.5371591 ],\n",
       "       [ 1.8017111 , -0.5903535 ],\n",
       "       [-2.3840337 ,  2.7042773 ],\n",
       "       [ 1.8227091 , -0.5412843 ],\n",
       "       [ 1.7783185 , -0.69126   ],\n",
       "       [ 1.4053344 , -0.22833145],\n",
       "       [ 1.8594704 , -0.62203777],\n",
       "       [-1.2989044 ,  2.0477211 ],\n",
       "       [ 1.6768945 , -0.44541916],\n",
       "       [ 1.7662632 , -0.6041441 ],\n",
       "       [ 1.7971802 , -0.6573022 ],\n",
       "       [-2.450255  ,  2.828852  ],\n",
       "       [ 1.8416948 , -0.67772573],\n",
       "       [ 1.6450915 , -0.5443789 ],\n",
       "       [ 1.7061136 , -0.58757854],\n",
       "       [ 1.7463336 , -0.5104417 ],\n",
       "       [-2.4971626 ,  2.721592  ],\n",
       "       [-1.381012  ,  2.4569623 ],\n",
       "       [ 1.126468  ,  0.20357539],\n",
       "       [ 1.7195109 , -0.5616398 ],\n",
       "       [-2.4286911 ,  2.7460263 ],\n",
       "       [ 0.12045185,  1.0469427 ],\n",
       "       [ 1.868236  , -0.67849267],\n",
       "       [ 1.744993  , -0.49273625],\n",
       "       [-2.427232  ,  2.7243733 ],\n",
       "       [ 1.766601  , -0.582616  ],\n",
       "       [ 1.8983737 , -0.68327004],\n",
       "       [-2.4690495 ,  2.6916025 ],\n",
       "       [ 1.7457937 , -0.6008137 ],\n",
       "       [-0.98714364,  2.0647428 ],\n",
       "       [ 1.8075553 , -0.64382595],\n",
       "       [ 1.8130654 , -0.6347193 ],\n",
       "       [-2.5588813 ,  2.591757  ],\n",
       "       [ 1.7709479 , -0.6680822 ],\n",
       "       [ 1.6715963 , -0.48059398],\n",
       "       [ 1.557297  , -0.5446123 ],\n",
       "       [ 1.8214586 , -0.68078303],\n",
       "       [ 1.8043232 , -0.71812856],\n",
       "       [-2.3965657 ,  2.8634164 ],\n",
       "       [-1.6103425 ,  2.4421008 ],\n",
       "       [ 1.7749133 , -0.5911002 ],\n",
       "       [ 1.5609164 , -0.3724733 ],\n",
       "       [ 1.737913  , -0.52378887],\n",
       "       [-2.1032345 ,  2.723426  ],\n",
       "       [ 1.5907905 , -0.6048785 ],\n",
       "       [-1.7669647 ,  2.719843  ],\n",
       "       [-1.3919661 ,  2.3530152 ],\n",
       "       [ 1.8711264 , -0.75261456],\n",
       "       [-2.3581572 ,  2.8343186 ],\n",
       "       [-2.5531223 ,  2.70622   ],\n",
       "       [-2.1553943 ,  2.775904  ],\n",
       "       [ 1.693263  , -0.5386951 ],\n",
       "       [ 1.6759505 , -0.6258773 ],\n",
       "       [ 1.765261  , -0.5548056 ],\n",
       "       [-2.5145252 ,  2.8175304 ],\n",
       "       [-2.1545148 ,  2.681852  ],\n",
       "       [ 1.8304484 , -0.74329704],\n",
       "       [-2.0039282 ,  2.586398  ],\n",
       "       [ 1.6706462 , -0.6106732 ],\n",
       "       [ 1.5057704 , -0.2644796 ],\n",
       "       [ 1.8201756 , -0.6932101 ],\n",
       "       [-2.543648  ,  2.337846  ],\n",
       "       [ 1.735745  , -0.5702822 ],\n",
       "       [ 0.9159035 ,  0.58310467],\n",
       "       [-0.988188  ,  1.8593721 ],\n",
       "       [-0.6415567 ,  1.8004386 ],\n",
       "       [-2.4824047 ,  2.534925  ],\n",
       "       [-2.2936919 ,  2.6592598 ],\n",
       "       [ 1.7347732 , -0.5473702 ],\n",
       "       [ 1.742507  , -0.6382332 ],\n",
       "       [-1.12187   ,  2.1688192 ],\n",
       "       [ 1.8325633 , -0.7084038 ],\n",
       "       [-2.5844824 ,  2.5990093 ],\n",
       "       [ 1.80387   , -0.57297873],\n",
       "       [-2.61416   ,  2.5348897 ],\n",
       "       [ 1.6910099 , -0.6004388 ],\n",
       "       [-2.5360749 ,  2.2421205 ],\n",
       "       [ 0.9227958 ,  0.22517997],\n",
       "       [-1.6698896 ,  2.3935673 ],\n",
       "       [-2.0969884 ,  2.2834702 ],\n",
       "       [-2.1797967 ,  2.5384934 ],\n",
       "       [ 1.8130784 , -0.698651  ],\n",
       "       [ 1.7068464 , -0.6654074 ],\n",
       "       [ 1.8052591 , -0.57841504],\n",
       "       [-2.1119301 ,  2.585183  ],\n",
       "       [ 1.6679138 , -0.5076239 ],\n",
       "       [-2.3402913 ,  2.0596008 ],\n",
       "       [ 0.92126274,  0.26454273],\n",
       "       [-1.6302917 ,  2.5753467 ],\n",
       "       [ 1.1668043 , -0.21353462],\n",
       "       [-2.0303066 ,  2.6688464 ],\n",
       "       [ 1.8013864 , -0.6416632 ],\n",
       "       [-1.8938363 ,  2.763761  ],\n",
       "       [-0.8871347 ,  1.9729861 ],\n",
       "       [ 1.4629855 , -0.27661958],\n",
       "       [-2.2916906 ,  2.6874    ],\n",
       "       [ 0.1364201 ,  1.1876638 ],\n",
       "       [-2.4267168 ,  2.8054554 ],\n",
       "       [-2.3741386 ,  2.7323184 ],\n",
       "       [ 0.1109013 ,  1.089391  ],\n",
       "       [ 1.6408606 , -0.44727698],\n",
       "       [-0.71134686,  1.7007558 ],\n",
       "       [-1.5940348 ,  2.551028  ],\n",
       "       [ 1.8066795 , -0.6646339 ],\n",
       "       [-2.644029  ,  2.6563866 ],\n",
       "       [ 1.4755805 , -0.4096555 ],\n",
       "       [-2.2517905 ,  2.612193  ],\n",
       "       [-2.2329686 ,  2.7080586 ],\n",
       "       [-0.71116996,  1.7554476 ],\n",
       "       [ 1.7918952 , -0.7338836 ],\n",
       "       [ 0.17379873,  1.0875819 ],\n",
       "       [ 1.7523967 , -0.6762309 ],\n",
       "       [-2.539365  ,  2.5319915 ],\n",
       "       [ 1.3043834 , -0.05858092],\n",
       "       [-0.7775841 ,  2.0232775 ],\n",
       "       [-1.7727299 ,  2.4017065 ],\n",
       "       [ 1.6244571 , -0.5605447 ],\n",
       "       [ 1.7657135 , -0.7693678 ],\n",
       "       [ 1.827836  , -0.6392435 ],\n",
       "       [ 1.8583732 , -0.71126974],\n",
       "       [-2.5089052 ,  2.6460807 ],\n",
       "       [-2.6049247 ,  2.66538   ],\n",
       "       [ 0.48859617,  0.6148435 ],\n",
       "       [-2.664418  ,  2.441281  ]], dtype=float32), label_ids=array([1, 0, 0, 1, 0, 1, 1, 1, 1, 1, 0, 0, 0, 0, 0, 1, 0, 1, 0, 0, 1, 1,\n",
       "       0, 1, 1, 0, 0, 0, 1, 0, 0, 0, 1, 1, 0, 0, 1, 0, 1, 1, 1, 1, 1, 1,\n",
       "       0, 0, 1, 1, 0, 1, 0, 1, 0, 1, 1, 0, 1, 0, 1, 1, 1, 0, 1, 0, 0, 1,\n",
       "       0, 0, 1, 0, 1, 1, 0, 0, 0, 1, 0, 0, 1, 0, 0, 1, 0, 0, 0, 0, 0, 1,\n",
       "       0, 0, 0, 0, 1, 1, 0, 0, 1, 0, 0, 0, 1, 0, 0, 1, 0, 1, 0, 0, 0, 0,\n",
       "       0, 0, 0, 0, 1, 1, 0, 0, 0, 1, 0, 1, 1, 0, 1, 1, 1, 0, 1, 0, 1, 1,\n",
       "       0, 1, 0, 0, 0, 1, 0, 0, 1, 1, 1, 1, 0, 1, 1, 0, 0, 0, 1, 0, 1, 0,\n",
       "       1, 1, 1, 0, 0, 1, 1, 0, 1, 1, 1, 0, 1, 0, 1, 1, 0, 1, 1, 1, 1, 1,\n",
       "       0, 1, 1, 0, 1, 0, 1, 1, 1, 0, 1, 0, 1, 1, 1, 1, 0, 0, 0, 0, 1, 1,\n",
       "       1, 1]), metrics={'test_loss': 0.2873287498950958, 'test_accuracy': 0.91, 'test_runtime': 4.8076, 'test_samples_per_second': 41.601, 'test_steps_per_second': 10.4})"
      ]
     },
     "execution_count": 24,
     "metadata": {},
     "output_type": "execute_result"
    }
   ],
   "execution_count": 24
  },
  {
   "metadata": {
    "ExecuteTime": {
     "end_time": "2024-09-30T18:10:45.267906Z",
     "start_time": "2024-09-30T18:10:45.257101Z"
    }
   },
   "cell_type": "code",
   "source": [
    "# Predicted logits\n",
    "y_test_logits = y_test_predict.predictions\n",
    "\n",
    "# First 5 predicted probabilities\n",
    "y_test_logits[:5]"
   ],
   "id": "6955d8158439fd7e",
   "outputs": [
    {
     "data": {
      "text/plain": [
       "array([[-1.5654663 ,  2.3990934 ],\n",
       "       [ 1.7581693 , -0.6715308 ],\n",
       "       [ 0.09052113,  1.02621   ],\n",
       "       [-2.4650466 ,  2.794814  ],\n",
       "       [ 0.9079242 ,  0.28788352]], dtype=float32)"
      ]
     },
     "execution_count": 26,
     "metadata": {},
     "output_type": "execute_result"
    }
   ],
   "execution_count": 26
  },
  {
   "metadata": {
    "ExecuteTime": {
     "end_time": "2024-09-30T18:15:20.185447Z",
     "start_time": "2024-09-30T18:15:20.152917Z"
    }
   },
   "cell_type": "code",
   "source": [
    "# Predicted probabilities\n",
    "y_test_probabilities = tf.nn.softmax(y_test_logits)\n",
    "\n",
    "# First 5 predicted logits\n",
    "y_test_probabilities[:5]"
   ],
   "id": "55c67f9ad0c2d7f4",
   "outputs": [
    {
     "data": {
      "text/plain": [
       "<tf.Tensor: shape=(5, 2), dtype=float32, numpy=\n",
       "array([[0.01862299, 0.981377  ],\n",
       "       [0.9190642 , 0.08093577],\n",
       "       [0.28177202, 0.71822804],\n",
       "       [0.00516917, 0.99483085],\n",
       "       [0.6502278 , 0.34977219]], dtype=float32)>"
      ]
     },
     "execution_count": 35,
     "metadata": {},
     "output_type": "execute_result"
    }
   ],
   "execution_count": 35
  },
  {
   "metadata": {
    "ExecuteTime": {
     "end_time": "2024-09-30T18:15:25.875828Z",
     "start_time": "2024-09-30T18:15:25.870543Z"
    }
   },
   "cell_type": "code",
   "source": [
    "# Predicted labels\n",
    "y_test_pred_labels = np.argmax(y_test_probabilities, axis=1)\n",
    "\n",
    "# First 5 predicted probabilities\n",
    "y_test_pred_labels[:5]"
   ],
   "id": "dee636f6296dc953",
   "outputs": [
    {
     "data": {
      "text/plain": [
       "array([1, 0, 1, 1, 0])"
      ]
     },
     "execution_count": 36,
     "metadata": {},
     "output_type": "execute_result"
    }
   ],
   "execution_count": 36
  },
  {
   "metadata": {
    "ExecuteTime": {
     "end_time": "2024-09-30T18:15:38.549948Z",
     "start_time": "2024-09-30T18:15:38.513298Z"
    }
   },
   "cell_type": "code",
   "source": [
    "# Actual labels\n",
    "y_test_actual_labels = y_test_predict.label_ids\n",
    "\n",
    "# First 5 predicted probabilities\n",
    "y_test_actual_labels[:5]"
   ],
   "id": "97df6bb6bd0f58ae",
   "outputs": [
    {
     "data": {
      "text/plain": [
       "array([1, 0, 0, 1, 0])"
      ]
     },
     "execution_count": 37,
     "metadata": {},
     "output_type": "execute_result"
    }
   ],
   "execution_count": 37
  },
  {
   "metadata": {
    "ExecuteTime": {
     "end_time": "2024-09-30T18:15:50.904041Z",
     "start_time": "2024-09-30T18:15:45.877801Z"
    }
   },
   "cell_type": "code",
   "source": [
    "# Trainer evaluate\n",
    "trainer.evaluate(dataset_test)"
   ],
   "id": "fb87338bdd61cc0d",
   "outputs": [
    {
     "data": {
      "text/plain": [
       "{'eval_loss': 0.2873287498950958,\n",
       " 'eval_accuracy': 0.91,\n",
       " 'eval_runtime': 4.9994,\n",
       " 'eval_samples_per_second': 40.005,\n",
       " 'eval_steps_per_second': 10.001,\n",
       " 'epoch': 2.0}"
      ]
     },
     "execution_count": 38,
     "metadata": {},
     "output_type": "execute_result"
    }
   ],
   "execution_count": 38
  },
  {
   "metadata": {
    "ExecuteTime": {
     "end_time": "2024-09-30T18:17:30.458697Z",
     "start_time": "2024-09-30T18:17:27.985319Z"
    }
   },
   "cell_type": "code",
   "source": [
    "# Load f1 metric\n",
    "metric_f1 = evaluate.load(\"f1\")\n",
    "\n",
    "# Compute f1 metric\n",
    "metric_f1.compute(predictions=y_test_pred_labels, references=y_test_actual_labels)"
   ],
   "id": "f71ad0b2d92f9b84",
   "outputs": [
    {
     "data": {
      "text/plain": [
       "{'f1': 0.9072164948453608}"
      ]
     },
     "execution_count": 42,
     "metadata": {},
     "output_type": "execute_result"
    }
   ],
   "execution_count": 42
  },
  {
   "metadata": {
    "ExecuteTime": {
     "end_time": "2024-09-30T18:18:11.495176Z",
     "start_time": "2024-09-30T18:18:09.039036Z"
    }
   },
   "cell_type": "code",
   "source": [
    "# Load recall metric\n",
    "metric_recall = evaluate.load(\"recall\")\n",
    "\n",
    "# Compute recall metric\n",
    "metric_recall.compute(predictions=y_test_pred_labels, references=y_test_actual_labels)"
   ],
   "id": "89c0d2cde95a321",
   "outputs": [
    {
     "data": {
      "text/plain": [
       "{'recall': 0.88}"
      ]
     },
     "execution_count": 44,
     "metadata": {},
     "output_type": "execute_result"
    }
   ],
   "execution_count": 44
  },
  {
   "metadata": {
    "ExecuteTime": {
     "end_time": "2024-09-30T18:18:14.093646Z",
     "start_time": "2024-09-30T18:18:12.846652Z"
    }
   },
   "cell_type": "code",
   "source": [
    "# Save tokenizer\n",
    "tokenizer.save_pretrained('./sentiment_transfer_learning_transformer/')\n",
    "\n",
    "# Save model\n",
    "trainer.save_model('./sentiment_transfer_learning_transformer/')"
   ],
   "id": "326fa4510644b3e7",
   "outputs": [],
   "execution_count": 45
  },
  {
   "metadata": {
    "ExecuteTime": {
     "end_time": "2024-09-30T18:18:34.459354Z",
     "start_time": "2024-09-30T18:18:34.335861Z"
    }
   },
   "cell_type": "code",
   "source": [
    "# Load tokenizer\n",
    "tokenizer = AutoTokenizer.from_pretrained(\"./sentiment_transfer_learning_transformer/\")\n",
    "\n",
    "# Load model\n",
    "loaded_model = AutoModelForSequenceClassification.from_pretrained('./sentiment_transfer_learning_transformer/')"
   ],
   "id": "53ac5713b6d0517c",
   "outputs": [],
   "execution_count": 46
  }
 ],
 "metadata": {
  "kernelspec": {
   "display_name": "Python 3",
   "language": "python",
   "name": "python3"
  },
  "language_info": {
   "codemirror_mode": {
    "name": "ipython",
    "version": 2
   },
   "file_extension": ".py",
   "mimetype": "text/x-python",
   "name": "python",
   "nbconvert_exporter": "python",
   "pygments_lexer": "ipython2",
   "version": "2.7.6"
  }
 },
 "nbformat": 4,
 "nbformat_minor": 5
}

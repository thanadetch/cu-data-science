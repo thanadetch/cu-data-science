{
 "cells": [
  {
   "metadata": {
    "ExecuteTime": {
     "end_time": "2024-10-06T17:09:22.252324Z",
     "start_time": "2024-10-06T17:08:45.260367Z"
    }
   },
   "cell_type": "code",
   "source": [
    "from huggingface_hub import HfApi, Repository\n",
    "import os\n",
    "from transformers import AutoModelForSequenceClassification, AutoTokenizer\n",
    "\n",
    "# Define your local directory where model and tokenizer are saved\n",
    "model_directory = \"research_classification_bert\"\n",
    "\n",
    "# Step 1: Create a new repository on Hugging Face (if it doesn't exist)\n",
    "api = HfApi()\n",
    "\n",
    "# Give your model a name\n",
    "repo_name = \"research_classification_bert\"\n",
    "username = \"thanadetch\"  # Replace with your Hugging Face username\n",
    "# repo_url = api.create_repo(name=repo_name, exist_ok=True)\n",
    "\n",
    "# Step 2: Push the model and tokenizer to Hugging Face\n",
    "# Load the model and tokenizer from the local directory\n",
    "model = AutoModelForSequenceClassification.from_pretrained(model_directory)\n",
    "tokenizer = AutoTokenizer.from_pretrained(model_directory)\n",
    "\n",
    "# Push the model and tokenizer\n",
    "model.push_to_hub(repo_name)\n",
    "tokenizer.push_to_hub(repo_name)"
   ],
   "id": "596ab9b6b9d74ecf",
   "outputs": [
    {
     "data": {
      "text/plain": [
       "model.safetensors:   0%|          | 0.00/438M [00:00<?, ?B/s]"
      ],
      "application/vnd.jupyter.widget-view+json": {
       "version_major": 2,
       "version_minor": 0,
       "model_id": "fbf2dd6fa94c45d9a74b92ad581fc064"
      }
     },
     "metadata": {},
     "output_type": "display_data"
    },
    {
     "name": "stderr",
     "output_type": "stream",
     "text": [
      "No files have been modified since last commit. Skipping to prevent empty commit.\n"
     ]
    },
    {
     "data": {
      "text/plain": [
       "CommitInfo(commit_url='https://huggingface.co/thanadetch/research_classification_bert/commit/f71998b4ec1e6627d550ada638c14a92ae9be084', commit_message='Upload tokenizer', commit_description='', oid='f71998b4ec1e6627d550ada638c14a92ae9be084', pr_url=None, repo_url=RepoUrl('https://huggingface.co/thanadetch/research_classification_bert', endpoint='https://huggingface.co', repo_type='model', repo_id='thanadetch/research_classification_bert'), pr_revision=None, pr_num=None)"
      ]
     },
     "execution_count": 1,
     "metadata": {},
     "output_type": "execute_result"
    }
   ],
   "execution_count": 1
  }
 ],
 "metadata": {
  "kernelspec": {
   "display_name": "Python 3",
   "language": "python",
   "name": "python3"
  },
  "language_info": {
   "codemirror_mode": {
    "name": "ipython",
    "version": 2
   },
   "file_extension": ".py",
   "mimetype": "text/x-python",
   "name": "python",
   "nbconvert_exporter": "python",
   "pygments_lexer": "ipython2",
   "version": "2.7.6"
  }
 },
 "nbformat": 4,
 "nbformat_minor": 5
}

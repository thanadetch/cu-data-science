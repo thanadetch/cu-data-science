{
 "cells": [
  {
   "metadata": {},
   "cell_type": "code",
   "outputs": [],
   "execution_count": null,
   "source": [
    "from huggingface_hub import HfApi, Repository\n",
    "import os\n",
    "from transformers import AutoModelForSequenceClassification, AutoTokenizer\n",
    "\n",
    "# Define your local directory where model and tokenizer are saved\n",
    "model_directory = \"research_classification_bert\"\n",
    "\n",
    "# Step 1: Create a new repository on Hugging Face (if it doesn't exist)\n",
    "api = HfApi()\n",
    "\n",
    "# Give your model a name\n",
    "repo_name = \"research_classification_bert\"\n",
    "username = \"thanadetch\"  # Replace with your Hugging Face username\n",
    "# repo_url = api.create_repo(name=repo_name, exist_ok=True)\n",
    "\n",
    "# Step 2: Push the model and tokenizer to Hugging Face\n",
    "# Load the model and tokenizer from the local directory\n",
    "model = AutoModelForSequenceClassification.from_pretrained(model_directory)\n",
    "tokenizer = AutoTokenizer.from_pretrained(model_directory)\n",
    "\n",
    "# Push the model and tokenizer\n",
    "model.push_to_hub(repo_name)\n",
    "tokenizer.push_to_hub(repo_name)"
   ],
   "id": "596ab9b6b9d74ecf"
  }
 ],
 "metadata": {
  "kernelspec": {
   "display_name": "Python 3",
   "language": "python",
   "name": "python3"
  },
  "language_info": {
   "codemirror_mode": {
    "name": "ipython",
    "version": 2
   },
   "file_extension": ".py",
   "mimetype": "text/x-python",
   "name": "python",
   "nbconvert_exporter": "python",
   "pygments_lexer": "ipython2",
   "version": "2.7.6"
  }
 },
 "nbformat": 4,
 "nbformat_minor": 5
}

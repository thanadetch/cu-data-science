{
  "cells": [
    {
      "cell_type": "markdown",
      "metadata": {
        "id": "-PcOjb1ktDq7"
      },
      "source": [
        "# Redis Assignment\n",
        "In this assignment, you will access a redis server and user redis commands to find out answers.  The redis server is at *lab.aimet.tech*.  You also have to authenticate as username 'hw' with password 'hw'.  \n",
        "\n",
        "The populated data in the redis database is similar to the example \"simple social network\" in the class.  Answer all questions in mycourseville assignment.\n",
        "\n",
        "Note that this user can only use \"read\" commands e.g. \"get\", \"lrange\", \"llen\", \"scan\", etc."
      ]
    },
    {
      "cell_type": "code",
      "execution_count": 113,
      "metadata": {
        "id": "Tjaj1f1ftDq8"
      },
      "outputs": [],
      "source": [
        "try:\n",
        "  import google.colab\n",
        "  IN_COLAB = True\n",
        "except:\n",
        "  IN_COLAB = False"
      ]
    },
    {
      "cell_type": "code",
      "execution_count": 114,
      "metadata": {
        "id": "XlO4MAHCtDq9",
        "outputId": "ecd8a706-7f51-47b2-cdaa-6cdc80f46d3d",
        "colab": {
          "base_uri": "https://localhost:8080/"
        }
      },
      "outputs": [
        {
          "output_type": "stream",
          "name": "stdout",
          "text": [
            "Requirement already satisfied: redis in /usr/local/lib/python3.10/dist-packages (5.1.1)\n",
            "Requirement already satisfied: async-timeout>=4.0.3 in /usr/local/lib/python3.10/dist-packages (from redis) (4.0.3)\n"
          ]
        }
      ],
      "source": [
        "if IN_COLAB:\n",
        "    %pip install redis"
      ]
    },
    {
      "cell_type": "code",
      "execution_count": 115,
      "metadata": {
        "id": "nycWNp4mtDq9"
      },
      "outputs": [],
      "source": [
        "import redis"
      ]
    },
    {
      "cell_type": "code",
      "execution_count": 116,
      "metadata": {
        "id": "XnzWKObVtDq9",
        "outputId": "ba1689f6-cd4b-44f2-f71b-e2d008a83a9d",
        "colab": {
          "base_uri": "https://localhost:8080/"
        }
      },
      "outputs": [
        {
          "output_type": "execute_result",
          "data": {
            "text/plain": [
              "True"
            ]
          },
          "metadata": {},
          "execution_count": 116
        }
      ],
      "source": [
        "rd = redis.Redis(host='lab.aimet.tech', charset=\"utf-8\", decode_responses=True)\n",
        "rd.auth(username='hw', password='hw')"
      ]
    },
    {
      "cell_type": "markdown",
      "metadata": {
        "id": "OlHL6HVEtDq-"
      },
      "source": [
        "## What is the username of user id \"600\"?"
      ]
    },
    {
      "cell_type": "code",
      "execution_count": 117,
      "metadata": {
        "id": "zbQ1Ey5UtDq-",
        "outputId": "7d26f87b-8912-4702-dcd7-0b9dee81a4ea",
        "colab": {
          "base_uri": "https://localhost:8080/",
          "height": 36
        }
      },
      "outputs": [
        {
          "output_type": "execute_result",
          "data": {
            "text/plain": [
              "'cautiousCrackers9'"
            ],
            "application/vnd.google.colaboratory.intrinsic+json": {
              "type": "string"
            }
          },
          "metadata": {},
          "execution_count": 117
        }
      ],
      "source": [
        "rd.get('user:600:name')"
      ]
    },
    {
      "cell_type": "markdown",
      "metadata": {
        "id": "0PKms5CDtDq-"
      },
      "source": [
        "## What is the id of username \"excitedPie4\" ?"
      ]
    },
    {
      "cell_type": "code",
      "execution_count": 118,
      "metadata": {
        "id": "P_RhIkWPtDq-",
        "outputId": "00cfb8db-69b4-478c-d6f4-2356b0d5f798",
        "colab": {
          "base_uri": "https://localhost:8080/",
          "height": 36
        }
      },
      "outputs": [
        {
          "output_type": "execute_result",
          "data": {
            "text/plain": [
              "'567'"
            ],
            "application/vnd.google.colaboratory.intrinsic+json": {
              "type": "string"
            }
          },
          "metadata": {},
          "execution_count": 118
        }
      ],
      "source": [
        "rd.get('username:excitedPie4')"
      ]
    },
    {
      "cell_type": "markdown",
      "metadata": {
        "id": "FXTCwkRhtDq-"
      },
      "source": [
        "## How many users that \"excitedPie4\" follows ?"
      ]
    },
    {
      "cell_type": "code",
      "execution_count": 119,
      "metadata": {
        "id": "VSjlfDC2tDq-",
        "outputId": "17081d6a-f0a8-468d-c987-fd167534f3ae",
        "colab": {
          "base_uri": "https://localhost:8080/"
        }
      },
      "outputs": [
        {
          "output_type": "execute_result",
          "data": {
            "text/plain": [
              "9"
            ]
          },
          "metadata": {},
          "execution_count": 119
        }
      ],
      "source": [
        "rd.scard('user:567:follows')"
      ]
    },
    {
      "cell_type": "markdown",
      "metadata": {
        "id": "yYFoSYVRtDq-"
      },
      "source": [
        "## How many users are there in the database?"
      ]
    },
    {
      "cell_type": "code",
      "execution_count": 120,
      "metadata": {
        "id": "1RyysUojtDq_",
        "outputId": "136d2fde-418f-4459-8d9a-2af680b72ee7",
        "colab": {
          "base_uri": "https://localhost:8080/"
        }
      },
      "outputs": [
        {
          "output_type": "execute_result",
          "data": {
            "text/plain": [
              "200"
            ]
          },
          "metadata": {},
          "execution_count": 120
        }
      ],
      "source": [
        "len(rd.keys('user:*:name'))"
      ]
    },
    {
      "cell_type": "markdown",
      "metadata": {
        "id": "c2J0lpputDq_"
      },
      "source": [
        "## What is the average number of follows per user?"
      ]
    },
    {
      "cell_type": "code",
      "execution_count": 121,
      "metadata": {
        "id": "ttXvZdO-tDq_",
        "outputId": "8fde8fa6-9f7f-400e-d865-d4927f3372f4",
        "colab": {
          "base_uri": "https://localhost:8080/"
        }
      },
      "outputs": [
        {
          "output_type": "execute_result",
          "data": {
            "text/plain": [
              "8.605"
            ]
          },
          "metadata": {},
          "execution_count": 121
        }
      ],
      "source": [
        "follows = rd.keys('user:*:follows')\n",
        "total_user = len(rd.keys('user:*:name'))\n",
        "total_follows = 0\n",
        "\n",
        "for follow in follows:\n",
        "  total_follows += rd.scard(follow)\n",
        "\n",
        "average_follows = total_follows / total_user\n",
        "average_follows"
      ]
    },
    {
      "cell_type": "markdown",
      "metadata": {
        "id": "XMlHkI2ZtDq_"
      },
      "source": [
        "## How many users follows between 5-10 users?"
      ]
    },
    {
      "cell_type": "code",
      "execution_count": 122,
      "metadata": {
        "id": "dyC5K5hKtDq_",
        "outputId": "0b67235e-0e69-4380-919d-9d2c20542416",
        "colab": {
          "base_uri": "https://localhost:8080/"
        }
      },
      "outputs": [
        {
          "output_type": "execute_result",
          "data": {
            "text/plain": [
              "60"
            ]
          },
          "metadata": {},
          "execution_count": 122
        }
      ],
      "source": [
        "min_follows = 5\n",
        "max_follows = 10\n",
        "follows = rd.keys('user:*:follows')\n",
        "count = 0\n",
        "\n",
        "for follow in follows:\n",
        "  if min_follows <= rd.scard(follow) <= max_follows:\n",
        "    count += 1\n",
        "\n",
        "count"
      ]
    },
    {
      "cell_type": "markdown",
      "metadata": {
        "id": "gfuLPbGItDq_"
      },
      "source": [
        "## Which account has the most followers?"
      ]
    },
    {
      "cell_type": "code",
      "execution_count": 123,
      "metadata": {
        "id": "Mbm5E4_CtDq_",
        "outputId": "fb679a30-059f-49d0-b8be-06a6382ded02",
        "colab": {
          "base_uri": "https://localhost:8080/",
          "height": 36
        }
      },
      "outputs": [
        {
          "output_type": "execute_result",
          "data": {
            "text/plain": [
              "'user:630:followed_by'"
            ],
            "application/vnd.google.colaboratory.intrinsic+json": {
              "type": "string"
            }
          },
          "metadata": {},
          "execution_count": 123
        }
      ],
      "source": [
        "users = rd.keys('user:*:followed_by')\n",
        "most_followers_account = ''\n",
        "\n",
        "for user in users:\n",
        "  if rd.scard(user) > rd.scard(most_followers_account):\n",
        "    most_followers_account = user\n",
        "\n",
        "most_followers_account"
      ]
    }
  ],
  "metadata": {
    "kernelspec": {
      "display_name": "Python 3 (ipykernel)",
      "language": "python",
      "name": "python3"
    },
    "language_info": {
      "codemirror_mode": {
        "name": "ipython",
        "version": 3
      },
      "file_extension": ".py",
      "mimetype": "text/x-python",
      "name": "python",
      "nbconvert_exporter": "python",
      "pygments_lexer": "ipython3",
      "version": "3.9.13"
    },
    "toc": {
      "base_numbering": 1,
      "nav_menu": {},
      "number_sections": true,
      "sideBar": true,
      "skip_h1_title": false,
      "title_cell": "Table of Contents",
      "title_sidebar": "Contents",
      "toc_cell": false,
      "toc_position": {},
      "toc_section_display": true,
      "toc_window_display": false
    },
    "varInspector": {
      "cols": {
        "lenName": 16,
        "lenType": 16,
        "lenVar": 40
      },
      "kernels_config": {
        "python": {
          "delete_cmd_postfix": "",
          "delete_cmd_prefix": "del ",
          "library": "var_list.py",
          "varRefreshCmd": "print(var_dic_list())"
        },
        "r": {
          "delete_cmd_postfix": ") ",
          "delete_cmd_prefix": "rm(",
          "library": "var_list.r",
          "varRefreshCmd": "cat(var_dic_list()) "
        }
      },
      "types_to_exclude": [
        "module",
        "function",
        "builtin_function_or_method",
        "instance",
        "_Feature"
      ],
      "window_display": false
    },
    "colab": {
      "provenance": []
    }
  },
  "nbformat": 4,
  "nbformat_minor": 0
}
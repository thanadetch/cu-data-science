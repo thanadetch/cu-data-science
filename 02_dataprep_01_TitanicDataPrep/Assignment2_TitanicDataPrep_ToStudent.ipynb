{
 "cells": [
  {
   "cell_type": "markdown",
   "metadata": {
    "id": "GSigx26OuY3K"
   },
   "source": [
    "# Assignment: Preparing Data for Analysis (Modified Titanic)"
   ]
  },
  {
   "cell_type": "markdown",
   "metadata": {
    "id": "tGEv03EbuY3R"
   },
   "source": [
    "![](https://github.com/kaopanboonyuen/2110446_DataScience_2021s2/raw/main/%20files/hw.png)"
   ]
  },
  {
   "cell_type": "markdown",
   "metadata": {
    "id": "4Y7acU90oRtB"
   },
   "source": [
    "# 1) Load data & review the data\n",
    "\n",
    "How many rows are there in the “titanic.csv?"
   ]
  },
  {
   "cell_type": "code",
   "metadata": {
    "executionInfo": {
     "elapsed": 525,
     "status": "ok",
     "timestamp": 1673946487442,
     "user": {
      "displayName": "Peerapon Vateekul",
      "userId": "16254659850492260409"
     },
     "user_tz": -420
    },
    "id": "ENNw4KZRuY3S",
    "ExecuteTime": {
     "end_time": "2024-09-01T17:44:14.426080Z",
     "start_time": "2024-09-01T17:44:14.401249Z"
    }
   },
   "source": [
    "#Import the libraries\n",
    "import numpy as np\n",
    "import pandas as pd\n",
    "from sklearn.model_selection import train_test_split"
   ],
   "outputs": [],
   "execution_count": 223
  },
  {
   "cell_type": "code",
   "metadata": {},
   "source": [
    "data_df = pd.read_csv('data/titanic_to_student.csv')\n",
    "print(data_df.shape[0])"
   ],
   "outputs": [],
   "execution_count": null
  },
  {
   "cell_type": "markdown",
   "metadata": {
    "id": "HyyLjiviotA3"
   },
   "source": [
    "# 2) Drop unqualified variables\n",
    "\n",
    "Drop unqualified variables\n",
    "\n",
    "Drop variables with missing > 50%\n",
    "\n",
    "Drop categorical variables with flat values > 70% (variables with the same value in the same column)\n",
    "\n",
    "How many columns do we have left?"
   ]
  },
  {
   "cell_type": "code",
   "metadata": {},
   "source": [
    "# Load the dataset\n",
    "df = pd.read_csv('./data/titanic_to_student.csv')\n",
    "\n",
    "thresh_value = int(df.shape[0] * 0.5)\n",
    "df.dropna(thresh=thresh_value, axis=1, inplace=True)\n",
    "\n",
    "for col in df.select_dtypes(include=['object']).columns:\n",
    "    top_freq = df[col].value_counts(normalize=True).max()\n",
    "    if top_freq > 0.7:\n",
    "        df.drop(columns=[col], inplace=True)\n",
    "\n",
    "print(df.shape[1])"
   ],
   "outputs": [],
   "execution_count": null
  },
  {
   "cell_type": "markdown",
   "metadata": {
    "id": "3jiMfyPxo7TK"
   },
   "source": [
    "# 3) Remove all rows with missing target (the variable \"Survived\")\n",
    "\n",
    "Remove all rows with missing targets (the variable \"Survived\")\n",
    "\n",
    "How many rows do we have left?\n"
   ]
  },
  {
   "cell_type": "code",
   "metadata": {},
   "source": [
    "df = pd.read_csv('./data/titanic_to_student.csv')\n",
    "\n",
    "df.dropna(subset=['Survived'], inplace=True)\n",
    "print(df.shape[0])"
   ],
   "outputs": [],
   "execution_count": null
  },
  {
   "cell_type": "markdown",
   "metadata": {
    "id": "LtgthZWlpDJw"
   },
   "source": [
    "# 4) Handle outliers \n",
    "Handle outliers\n",
    "\n",
    "For the variable “Fare”, replace outlier values with the boundary values\n",
    "\n",
    "If value < (Q1 - 1.5IQR), replace with (Q1 - 1.5IQR)\n",
    "\n",
    "If value > (Q3 + 1.5IQR), replace with (Q3 + 1.5IQR)\n",
    "\n",
    "What is the average (mean) of “Fare” after replacing the outliers (round 2 decimal points)?\n",
    "\n",
    "Hint: Use function round(_, 2)\n",
    "\n"
   ]
  },
  {
   "cell_type": "code",
   "metadata": {},
   "source": [
    "# Load the data\n",
    "df = pd.read_csv('./data/titanic_to_student.csv')\n",
    "\n",
    "# Calculate Q1, Q3, and IQR for the Fare column\n",
    "Q1 = df['Fare'].quantile(0.25)\n",
    "Q3 = df['Fare'].quantile(0.75)\n",
    "IQR = Q3 - Q1\n",
    "\n",
    "# Define the lower and upper bounds for outliers\n",
    "lower_bound = Q1 - 1.5 * IQR\n",
    "upper_bound = Q3 + 1.5 * IQR\n",
    "\n",
    "# Replace outliers with the boundary values\n",
    "df['Fare'] = df['Fare'].apply(\n",
    "    lambda fare: lower_bound if fare < lower_bound else upper_bound if fare > upper_bound else fare)\n",
    "\n",
    "# Calculate and print the average (mean) of Fare after replacing outliers\n",
    "mean_fare = round(df['Fare'].mean(), 2)\n",
    "print(mean_fare)\n"
   ],
   "outputs": [],
   "execution_count": null
  },
  {
   "cell_type": "markdown",
   "metadata": {
    "id": "wkZZEjXHpYS1"
   },
   "source": [
    "# 5) Impute missing value\n",
    "\n",
    "Impute missing value\n",
    "\n",
    "For number type column, impute missing values with mean\n",
    "\n",
    "What is the average (mean) of “Age” after imputing the missing values (round 2 decimal points)?\n",
    "\n",
    "Hint: Use function round(_, 2)\n"
   ]
  },
  {
   "cell_type": "code",
   "metadata": {},
   "source": [
    "df = pd.read_csv('./data/titanic_to_student.csv')\n",
    "mean_age = df['Age'].mean()\n",
    "df['Age'] = df['Age'].fillna(mean_age)\n",
    "mean_age_after_impute = round(df['Age'].mean(), 2)\n",
    "print(mean_age_after_impute)"
   ],
   "outputs": [],
   "execution_count": null
  },
  {
   "cell_type": "markdown",
   "metadata": {
    "id": "FCR7DNJgt4Cg"
   },
   "source": [
    "# 6) Convert categorical to numeric values\n",
    "\n",
    "Convert categorical to numeric values\n",
    "\n",
    "For the variable “Embarked”, perform the dummy coding.\n",
    "\n",
    "What is the average (mean) of “Embarked_Q” after performing dummy coding (round 2 decimal points)?\n",
    "\n",
    "Hint: Use function round(_, 2)\n",
    "\n"
   ]
  },
  {
   "cell_type": "code",
   "metadata": {},
   "source": [
    "df = pd.read_csv('./data/titanic_to_student.csv')\n",
    "df_dummies = pd.get_dummies(df['Embarked'], prefix='Embarked')\n",
    "mean_embarked_q = round(df_dummies['Embarked_Q'].mean(), 2)\n",
    "print(mean_embarked_q)"
   ],
   "outputs": [],
   "execution_count": null
  },
  {
   "cell_type": "markdown",
   "metadata": {
    "id": "XZAhqMgst93r"
   },
   "source": [
    "# 7) Partition data\n",
    "Split train/test split with stratification using 70%:30% and random seed with 123\n",
    "\n",
    "Show a proportion between survived (1) and died (0) in all data sets (total data, train, test)\n",
    "\n",
    "What is the proportion of survivors (survived = 1) in the training data (round 2 decimal points)?\n",
    "\n",
    "Hint: Use function round(_, 2), and train_test_split() from sklearn.model_selection\n",
    "\n",
    "\n"
   ]
  },
  {
   "metadata": {
    "ExecuteTime": {
     "end_time": "2024-09-01T17:51:52.311143Z",
     "start_time": "2024-09-01T17:51:52.296449Z"
    }
   },
   "cell_type": "code",
   "source": [
    "df = pd.read_csv('data/titanic_to_student.csv', index_col=0)\n",
    "df.fillna(df.select_dtypes(include='number').mean(), inplace=True)\n",
    "\n",
    "X = df.drop(columns='Survived')\n",
    "y = df['Survived']\n",
    "X_train, X_test, y_train, y_test = train_test_split(X, y, test_size=0.3, random_state=123, stratify=y)\n",
    "proportion_survived_train = y_train.value_counts(normalize=True)[1]\n",
    "proportion_survived_train_rounded = round(proportion_survived_train, 2)\n",
    "print(proportion_survived_train_rounded)"
   ],
   "outputs": [
    {
     "name": "stdout",
     "output_type": "stream",
     "text": [
      "0.41\n"
     ]
    }
   ],
   "execution_count": 236
  }
 ],
 "metadata": {
  "colab": {
   "provenance": [],
   "toc_visible": true
  },
  "kernelspec": {
   "display_name": "Python 3",
   "language": "python",
   "name": "python3"
  },
  "language_info": {
   "codemirror_mode": {
    "name": "ipython",
    "version": 3
   },
   "file_extension": ".py",
   "mimetype": "text/x-python",
   "name": "python",
   "nbconvert_exporter": "python",
   "pygments_lexer": "ipython3",
   "version": "3.11.4"
  },
  "toc": {
   "base_numbering": 1,
   "nav_menu": {},
   "number_sections": true,
   "sideBar": true,
   "skip_h1_title": false,
   "title_cell": "Table of Contents",
   "title_sidebar": "Contents",
   "toc_cell": false,
   "toc_position": {},
   "toc_section_display": true,
   "toc_window_display": false
  }
 },
 "nbformat": 4,
 "nbformat_minor": 0
}

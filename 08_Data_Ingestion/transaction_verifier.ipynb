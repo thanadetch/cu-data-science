{
 "cells": [
  {
   "cell_type": "code",
   "id": "3d144bf2",
   "metadata": {
    "ExecuteTime": {
     "end_time": "2024-10-26T07:58:34.686462Z",
     "start_time": "2024-10-26T07:58:34.677793Z"
    }
   },
   "source": [
    "# import required libraries\n",
    "from kafka import KafkaConsumer, KafkaProducer\n",
    "import avro.schema\n",
    "import avro.io\n",
    "import io\n",
    "import hashlib, json"
   ],
   "outputs": [],
   "execution_count": 72
  },
  {
   "cell_type": "code",
   "id": "6234ffde",
   "metadata": {
    "ExecuteTime": {
     "end_time": "2024-10-26T07:58:34.695100Z",
     "start_time": "2024-10-26T07:58:34.691774Z"
    }
   },
   "source": [
    "def serialize(schema, obj):\n",
    "    bytes_writer = io.BytesIO()\n",
    "    encoder = avro.io.BinaryEncoder(bytes_writer)\n",
    "    writer = avro.io.DatumWriter(schema)\n",
    "    writer.write(obj, encoder)\n",
    "    return bytes_writer.getvalue()"
   ],
   "outputs": [],
   "execution_count": 73
  },
  {
   "cell_type": "code",
   "id": "5e1434bb",
   "metadata": {
    "ExecuteTime": {
     "end_time": "2024-10-26T07:58:34.705127Z",
     "start_time": "2024-10-26T07:58:34.702739Z"
    }
   },
   "source": [
    "def deserialize(schema, raw_bytes):\n",
    "    bytes_reader = io.BytesIO(raw_bytes)\n",
    "    decoder = avro.io.BinaryDecoder(bytes_reader)\n",
    "    reader = avro.io.DatumReader(schema)\n",
    "    return reader.read(decoder)"
   ],
   "outputs": [],
   "execution_count": 74
  },
  {
   "cell_type": "code",
   "id": "0e92e3e9",
   "metadata": {
    "ExecuteTime": {
     "end_time": "2024-10-26T07:58:34.714126Z",
     "start_time": "2024-10-26T07:58:34.710483Z"
    }
   },
   "source": [
    "schema_file = 'transaction.avsc'\n",
    "txschema = avro.schema.parse(open(schema_file).read())\n",
    "schema_file = 'submit.avsc'\n",
    "submitschema = avro.schema.parse(open(schema_file).read())\n",
    "schema_file = 'result.avsc'\n",
    "resultschema = avro.schema.parse(open(schema_file).read())"
   ],
   "outputs": [],
   "execution_count": 75
  },
  {
   "cell_type": "code",
   "id": "bcb5dc21",
   "metadata": {
    "ExecuteTime": {
     "end_time": "2024-10-26T07:58:34.721460Z",
     "start_time": "2024-10-26T07:58:34.719921Z"
    }
   },
   "source": [
    "# Connect to kafka broker running in your local host (docker). Change this to your kafka broker if needed\n",
    "kafka_broker = 'lab.aimet.tech:9092'"
   ],
   "outputs": [],
   "execution_count": 76
  },
  {
   "cell_type": "code",
   "id": "0e05b4b0",
   "metadata": {
    "ExecuteTime": {
     "end_time": "2024-10-26T07:58:35.325986Z",
     "start_time": "2024-10-26T07:58:34.727434Z"
    }
   },
   "source": [
    "producer = KafkaProducer(bootstrap_servers=[kafka_broker])"
   ],
   "outputs": [],
   "execution_count": 77
  },
  {
   "cell_type": "code",
   "id": "4a2555a3",
   "metadata": {
    "ExecuteTime": {
     "end_time": "2024-10-26T07:58:35.674842Z",
     "start_time": "2024-10-26T07:58:35.332893Z"
    }
   },
   "source": [
    "txconsumer = KafkaConsumer(\n",
    "    'transaction',\n",
    "    bootstrap_servers=[kafka_broker],\n",
    "    enable_auto_commit=True,\n",
    "    value_deserializer=lambda x: deserialize(txschema, x))\n",
    "resultconsumer = KafkaConsumer(\n",
    "    'result',\n",
    "    bootstrap_servers=[kafka_broker],\n",
    "    enable_auto_commit=True,\n",
    "    value_deserializer=lambda x: deserialize(resultschema, x))"
   ],
   "outputs": [],
   "execution_count": 78
  },
  {
   "cell_type": "code",
   "id": "fe697a88",
   "metadata": {
    "ExecuteTime": {
     "end_time": "2024-10-26T07:58:35.684061Z",
     "start_time": "2024-10-26T07:58:35.681228Z"
    }
   },
   "source": [
    "def gen_signature(txid, payer, payee, amount, token):\n",
    "    o = {'txid': txid, 'payer': payer, 'payee': payee, 'amount': amount, 'token': token}\n",
    "    return hashlib.md5(json.dumps(o, sort_keys=True).encode('utf-8')).hexdigest()"
   ],
   "outputs": [],
   "execution_count": 79
  },
  {
   "metadata": {
    "ExecuteTime": {
     "end_time": "2024-10-26T07:58:35.691836Z",
     "start_time": "2024-10-26T07:58:35.689644Z"
    }
   },
   "cell_type": "code",
   "source": [
    "verify_token = '144c0db0459d005a4beef900f0c0c531'\n",
    "vid = \"V763258\""
   ],
   "id": "414037b4055ae24a",
   "outputs": [],
   "execution_count": 80
  },
  {
   "metadata": {
    "ExecuteTime": {
     "end_time": "2024-10-26T07:58:42.333384Z",
     "start_time": "2024-10-26T07:58:35.698190Z"
    }
   },
   "cell_type": "code",
   "source": [
    "for message in txconsumer:\n",
    "    tx = message.value\n",
    "    txid = tx['txid']\n",
    "    payer = tx['payer']\n",
    "    payee = tx['payee']\n",
    "    amount = tx['amount']\n",
    "    print(f\"Received transaction\")\n",
    "    print(f\"txid: {txid}, payer: {payer}, payee: {payee}, amount: {amount}\\n\")\n",
    "\n",
    "    signature = gen_signature(txid, payer, payee, amount, verify_token)\n",
    "    print(f\"Generated signature - {signature}\\n\")\n",
    "\n",
    "    verification = serialize(submitschema, {'vid': vid, 'txid': txid, 'signature': signature})\n",
    "    producer.send('submit', verification)\n",
    "\n",
    "    for result_message in resultconsumer:\n",
    "        result = result_message.value\n",
    "        resultCode = result.get('code')\n",
    "        resultVid = result.get('vid')\n",
    "        resultTxid = result.get('txid')\n",
    "        if resultCode == 200 and resultVid == vid and resultTxid == txid:\n",
    "            print(f\"Transaction verified\")\n",
    "            print(\n",
    "                f\"txid: {result.get('txid')}, timestamp: {result.get('timestamp')}, vid: {result.get('vid')}, checksum: {result.get('checksum')}, code: {result.get('code')}, message: {result.get('message')}\")"
   ],
   "id": "d835c3b5a9d9bc8",
   "outputs": [
    {
     "name": "stdout",
     "output_type": "stream",
     "text": [
      "Received transaction\n",
      "txid: TX06134, payer: A13402, payee: A89022, amount: 488\n",
      "\n",
      "Generated signature - 5ae698d4262c497629bfa91eeb3aac00\n",
      "\n",
      "Transaction verified\n",
      "txid: TX06134, timestamp: 1729929519, vid: V763258, checksum: 4c2130fb049e9878d25d94703768b553, code: 200, message: Confirm\n"
     ]
    },
    {
     "ename": "KeyboardInterrupt",
     "evalue": "",
     "output_type": "error",
     "traceback": [
      "\u001B[0;31m---------------------------------------------------------------------------\u001B[0m",
      "\u001B[0;31mKeyboardInterrupt\u001B[0m                         Traceback (most recent call last)",
      "Cell \u001B[0;32mIn[81], line 16\u001B[0m\n\u001B[1;32m     13\u001B[0m verification \u001B[38;5;241m=\u001B[39m serialize(submitschema, {\u001B[38;5;124m'\u001B[39m\u001B[38;5;124mvid\u001B[39m\u001B[38;5;124m'\u001B[39m: vid, \u001B[38;5;124m'\u001B[39m\u001B[38;5;124mtxid\u001B[39m\u001B[38;5;124m'\u001B[39m: txid, \u001B[38;5;124m'\u001B[39m\u001B[38;5;124msignature\u001B[39m\u001B[38;5;124m'\u001B[39m: signature})\n\u001B[1;32m     14\u001B[0m producer\u001B[38;5;241m.\u001B[39msend(\u001B[38;5;124m'\u001B[39m\u001B[38;5;124msubmit\u001B[39m\u001B[38;5;124m'\u001B[39m, verification)\n\u001B[0;32m---> 16\u001B[0m \u001B[43m\u001B[49m\u001B[38;5;28;43;01mfor\u001B[39;49;00m\u001B[43m \u001B[49m\u001B[43mresult_message\u001B[49m\u001B[43m \u001B[49m\u001B[38;5;129;43;01min\u001B[39;49;00m\u001B[43m \u001B[49m\u001B[43mresultconsumer\u001B[49m\u001B[43m:\u001B[49m\n\u001B[1;32m     17\u001B[0m \u001B[43m    \u001B[49m\u001B[43mresult\u001B[49m\u001B[43m \u001B[49m\u001B[38;5;241;43m=\u001B[39;49m\u001B[43m \u001B[49m\u001B[43mresult_message\u001B[49m\u001B[38;5;241;43m.\u001B[39;49m\u001B[43mvalue\u001B[49m\n\u001B[1;32m     18\u001B[0m \u001B[43m    \u001B[49m\u001B[43mresultCode\u001B[49m\u001B[43m \u001B[49m\u001B[38;5;241;43m=\u001B[39;49m\u001B[43m \u001B[49m\u001B[43mresult\u001B[49m\u001B[38;5;241;43m.\u001B[39;49m\u001B[43mget\u001B[49m\u001B[43m(\u001B[49m\u001B[38;5;124;43m'\u001B[39;49m\u001B[38;5;124;43mcode\u001B[39;49m\u001B[38;5;124;43m'\u001B[39;49m\u001B[43m)\u001B[49m\n",
      "File \u001B[0;32m~/works/cu-data-science/.venv/lib/python3.12/site-packages/kafka/consumer/group.py:1197\u001B[0m, in \u001B[0;36mKafkaConsumer.__next__\u001B[0;34m(self)\u001B[0m\n\u001B[1;32m   1195\u001B[0m     \u001B[38;5;28;01mreturn\u001B[39;00m \u001B[38;5;28mself\u001B[39m\u001B[38;5;241m.\u001B[39mnext_v1()\n\u001B[1;32m   1196\u001B[0m \u001B[38;5;28;01melse\u001B[39;00m:\n\u001B[0;32m-> 1197\u001B[0m     \u001B[38;5;28;01mreturn\u001B[39;00m \u001B[38;5;28;43mself\u001B[39;49m\u001B[38;5;241;43m.\u001B[39;49m\u001B[43mnext_v2\u001B[49m\u001B[43m(\u001B[49m\u001B[43m)\u001B[49m\n",
      "File \u001B[0;32m~/works/cu-data-science/.venv/lib/python3.12/site-packages/kafka/consumer/group.py:1205\u001B[0m, in \u001B[0;36mKafkaConsumer.next_v2\u001B[0;34m(self)\u001B[0m\n\u001B[1;32m   1203\u001B[0m     \u001B[38;5;28mself\u001B[39m\u001B[38;5;241m.\u001B[39m_iterator \u001B[38;5;241m=\u001B[39m \u001B[38;5;28mself\u001B[39m\u001B[38;5;241m.\u001B[39m_message_generator_v2()\n\u001B[1;32m   1204\u001B[0m \u001B[38;5;28;01mtry\u001B[39;00m:\n\u001B[0;32m-> 1205\u001B[0m     \u001B[38;5;28;01mreturn\u001B[39;00m \u001B[38;5;28;43mnext\u001B[39;49m\u001B[43m(\u001B[49m\u001B[38;5;28;43mself\u001B[39;49m\u001B[38;5;241;43m.\u001B[39;49m\u001B[43m_iterator\u001B[49m\u001B[43m)\u001B[49m\n\u001B[1;32m   1206\u001B[0m \u001B[38;5;28;01mexcept\u001B[39;00m \u001B[38;5;167;01mStopIteration\u001B[39;00m:\n\u001B[1;32m   1207\u001B[0m     \u001B[38;5;28mself\u001B[39m\u001B[38;5;241m.\u001B[39m_iterator \u001B[38;5;241m=\u001B[39m \u001B[38;5;28;01mNone\u001B[39;00m\n",
      "File \u001B[0;32m~/works/cu-data-science/.venv/lib/python3.12/site-packages/kafka/consumer/group.py:1120\u001B[0m, in \u001B[0;36mKafkaConsumer._message_generator_v2\u001B[0;34m(self)\u001B[0m\n\u001B[1;32m   1118\u001B[0m \u001B[38;5;28;01mdef\u001B[39;00m \u001B[38;5;21m_message_generator_v2\u001B[39m(\u001B[38;5;28mself\u001B[39m):\n\u001B[1;32m   1119\u001B[0m     timeout_ms \u001B[38;5;241m=\u001B[39m \u001B[38;5;241m1000\u001B[39m \u001B[38;5;241m*\u001B[39m (\u001B[38;5;28mself\u001B[39m\u001B[38;5;241m.\u001B[39m_consumer_timeout \u001B[38;5;241m-\u001B[39m time\u001B[38;5;241m.\u001B[39mtime())\n\u001B[0;32m-> 1120\u001B[0m     record_map \u001B[38;5;241m=\u001B[39m \u001B[38;5;28;43mself\u001B[39;49m\u001B[38;5;241;43m.\u001B[39;49m\u001B[43mpoll\u001B[49m\u001B[43m(\u001B[49m\u001B[43mtimeout_ms\u001B[49m\u001B[38;5;241;43m=\u001B[39;49m\u001B[43mtimeout_ms\u001B[49m\u001B[43m,\u001B[49m\u001B[43m \u001B[49m\u001B[43mupdate_offsets\u001B[49m\u001B[38;5;241;43m=\u001B[39;49m\u001B[38;5;28;43;01mFalse\u001B[39;49;00m\u001B[43m)\u001B[49m\n\u001B[1;32m   1121\u001B[0m     \u001B[38;5;28;01mfor\u001B[39;00m tp, records \u001B[38;5;129;01min\u001B[39;00m six\u001B[38;5;241m.\u001B[39miteritems(record_map):\n\u001B[1;32m   1122\u001B[0m         \u001B[38;5;66;03m# Generators are stateful, and it is possible that the tp / records\u001B[39;00m\n\u001B[1;32m   1123\u001B[0m         \u001B[38;5;66;03m# here may become stale during iteration -- i.e., we seek to a\u001B[39;00m\n\u001B[1;32m   1124\u001B[0m         \u001B[38;5;66;03m# different offset, pause consumption, or lose assignment.\u001B[39;00m\n\u001B[1;32m   1125\u001B[0m         \u001B[38;5;28;01mfor\u001B[39;00m record \u001B[38;5;129;01min\u001B[39;00m records:\n\u001B[1;32m   1126\u001B[0m             \u001B[38;5;66;03m# is_fetchable(tp) should handle assignment changes and offset\u001B[39;00m\n\u001B[1;32m   1127\u001B[0m             \u001B[38;5;66;03m# resets; for all other changes (e.g., seeks) we'll rely on the\u001B[39;00m\n\u001B[1;32m   1128\u001B[0m             \u001B[38;5;66;03m# outer function destroying the existing iterator/generator\u001B[39;00m\n\u001B[1;32m   1129\u001B[0m             \u001B[38;5;66;03m# via self._iterator = None\u001B[39;00m\n",
      "File \u001B[0;32m~/works/cu-data-science/.venv/lib/python3.12/site-packages/kafka/consumer/group.py:657\u001B[0m, in \u001B[0;36mKafkaConsumer.poll\u001B[0;34m(self, timeout_ms, max_records, update_offsets)\u001B[0m\n\u001B[1;32m    655\u001B[0m remaining \u001B[38;5;241m=\u001B[39m timeout_ms\n\u001B[1;32m    656\u001B[0m \u001B[38;5;28;01mwhile\u001B[39;00m \u001B[38;5;129;01mnot\u001B[39;00m \u001B[38;5;28mself\u001B[39m\u001B[38;5;241m.\u001B[39m_closed:\n\u001B[0;32m--> 657\u001B[0m     records \u001B[38;5;241m=\u001B[39m \u001B[38;5;28;43mself\u001B[39;49m\u001B[38;5;241;43m.\u001B[39;49m\u001B[43m_poll_once\u001B[49m\u001B[43m(\u001B[49m\u001B[43mremaining\u001B[49m\u001B[43m,\u001B[49m\u001B[43m \u001B[49m\u001B[43mmax_records\u001B[49m\u001B[43m,\u001B[49m\u001B[43m \u001B[49m\u001B[43mupdate_offsets\u001B[49m\u001B[38;5;241;43m=\u001B[39;49m\u001B[43mupdate_offsets\u001B[49m\u001B[43m)\u001B[49m\n\u001B[1;32m    658\u001B[0m     \u001B[38;5;28;01mif\u001B[39;00m records:\n\u001B[1;32m    659\u001B[0m         \u001B[38;5;28;01mreturn\u001B[39;00m records\n",
      "File \u001B[0;32m~/works/cu-data-science/.venv/lib/python3.12/site-packages/kafka/consumer/group.py:706\u001B[0m, in \u001B[0;36mKafkaConsumer._poll_once\u001B[0;34m(self, timeout_ms, max_records, update_offsets)\u001B[0m\n\u001B[1;32m    703\u001B[0m     \u001B[38;5;28mself\u001B[39m\u001B[38;5;241m.\u001B[39m_client\u001B[38;5;241m.\u001B[39mpoll(timeout_ms\u001B[38;5;241m=\u001B[39m\u001B[38;5;241m0\u001B[39m)\n\u001B[1;32m    705\u001B[0m timeout_ms \u001B[38;5;241m=\u001B[39m \u001B[38;5;28mmin\u001B[39m(timeout_ms, \u001B[38;5;28mself\u001B[39m\u001B[38;5;241m.\u001B[39m_coordinator\u001B[38;5;241m.\u001B[39mtime_to_next_poll() \u001B[38;5;241m*\u001B[39m \u001B[38;5;241m1000\u001B[39m)\n\u001B[0;32m--> 706\u001B[0m \u001B[38;5;28;43mself\u001B[39;49m\u001B[38;5;241;43m.\u001B[39;49m\u001B[43m_client\u001B[49m\u001B[38;5;241;43m.\u001B[39;49m\u001B[43mpoll\u001B[49m\u001B[43m(\u001B[49m\u001B[43mtimeout_ms\u001B[49m\u001B[38;5;241;43m=\u001B[39;49m\u001B[43mtimeout_ms\u001B[49m\u001B[43m)\u001B[49m\n\u001B[1;32m    707\u001B[0m \u001B[38;5;66;03m# after the long poll, we should check whether the group needs to rebalance\u001B[39;00m\n\u001B[1;32m    708\u001B[0m \u001B[38;5;66;03m# prior to returning data so that the group can stabilize faster\u001B[39;00m\n\u001B[1;32m    709\u001B[0m \u001B[38;5;28;01mif\u001B[39;00m \u001B[38;5;28mself\u001B[39m\u001B[38;5;241m.\u001B[39m_coordinator\u001B[38;5;241m.\u001B[39mneed_rejoin():\n",
      "File \u001B[0;32m~/works/cu-data-science/.venv/lib/python3.12/site-packages/kafka/client_async.py:602\u001B[0m, in \u001B[0;36mKafkaClient.poll\u001B[0;34m(self, timeout_ms, future)\u001B[0m\n\u001B[1;32m    599\u001B[0m             timeout \u001B[38;5;241m=\u001B[39m \u001B[38;5;28mmin\u001B[39m(timeout, \u001B[38;5;28mself\u001B[39m\u001B[38;5;241m.\u001B[39mconfig[\u001B[38;5;124m'\u001B[39m\u001B[38;5;124mretry_backoff_ms\u001B[39m\u001B[38;5;124m'\u001B[39m])\n\u001B[1;32m    600\u001B[0m         timeout \u001B[38;5;241m=\u001B[39m \u001B[38;5;28mmax\u001B[39m(\u001B[38;5;241m0\u001B[39m, timeout)  \u001B[38;5;66;03m# avoid negative timeouts\u001B[39;00m\n\u001B[0;32m--> 602\u001B[0m     \u001B[38;5;28;43mself\u001B[39;49m\u001B[38;5;241;43m.\u001B[39;49m\u001B[43m_poll\u001B[49m\u001B[43m(\u001B[49m\u001B[43mtimeout\u001B[49m\u001B[43m \u001B[49m\u001B[38;5;241;43m/\u001B[39;49m\u001B[43m \u001B[49m\u001B[38;5;241;43m1000\u001B[39;49m\u001B[43m)\u001B[49m\n\u001B[1;32m    604\u001B[0m \u001B[38;5;66;03m# called without the lock to avoid deadlock potential\u001B[39;00m\n\u001B[1;32m    605\u001B[0m \u001B[38;5;66;03m# if handlers need to acquire locks\u001B[39;00m\n\u001B[1;32m    606\u001B[0m responses\u001B[38;5;241m.\u001B[39mextend(\u001B[38;5;28mself\u001B[39m\u001B[38;5;241m.\u001B[39m_fire_pending_completed_requests())\n",
      "File \u001B[0;32m~/works/cu-data-science/.venv/lib/python3.12/site-packages/kafka/client_async.py:634\u001B[0m, in \u001B[0;36mKafkaClient._poll\u001B[0;34m(self, timeout)\u001B[0m\n\u001B[1;32m    631\u001B[0m \u001B[38;5;28mself\u001B[39m\u001B[38;5;241m.\u001B[39m_register_send_sockets()\n\u001B[1;32m    633\u001B[0m start_select \u001B[38;5;241m=\u001B[39m time\u001B[38;5;241m.\u001B[39mtime()\n\u001B[0;32m--> 634\u001B[0m ready \u001B[38;5;241m=\u001B[39m \u001B[38;5;28;43mself\u001B[39;49m\u001B[38;5;241;43m.\u001B[39;49m\u001B[43m_selector\u001B[49m\u001B[38;5;241;43m.\u001B[39;49m\u001B[43mselect\u001B[49m\u001B[43m(\u001B[49m\u001B[43mtimeout\u001B[49m\u001B[43m)\u001B[49m\n\u001B[1;32m    635\u001B[0m end_select \u001B[38;5;241m=\u001B[39m time\u001B[38;5;241m.\u001B[39mtime()\n\u001B[1;32m    636\u001B[0m \u001B[38;5;28;01mif\u001B[39;00m \u001B[38;5;28mself\u001B[39m\u001B[38;5;241m.\u001B[39m_sensors:\n",
      "File \u001B[0;32m/Library/Frameworks/Python.framework/Versions/3.12/lib/python3.12/selectors.py:566\u001B[0m, in \u001B[0;36mKqueueSelector.select\u001B[0;34m(self, timeout)\u001B[0m\n\u001B[1;32m    564\u001B[0m ready \u001B[38;5;241m=\u001B[39m []\n\u001B[1;32m    565\u001B[0m \u001B[38;5;28;01mtry\u001B[39;00m:\n\u001B[0;32m--> 566\u001B[0m     kev_list \u001B[38;5;241m=\u001B[39m \u001B[38;5;28;43mself\u001B[39;49m\u001B[38;5;241;43m.\u001B[39;49m\u001B[43m_selector\u001B[49m\u001B[38;5;241;43m.\u001B[39;49m\u001B[43mcontrol\u001B[49m\u001B[43m(\u001B[49m\u001B[38;5;28;43;01mNone\u001B[39;49;00m\u001B[43m,\u001B[49m\u001B[43m \u001B[49m\u001B[43mmax_ev\u001B[49m\u001B[43m,\u001B[49m\u001B[43m \u001B[49m\u001B[43mtimeout\u001B[49m\u001B[43m)\u001B[49m\n\u001B[1;32m    567\u001B[0m \u001B[38;5;28;01mexcept\u001B[39;00m \u001B[38;5;167;01mInterruptedError\u001B[39;00m:\n\u001B[1;32m    568\u001B[0m     \u001B[38;5;28;01mreturn\u001B[39;00m ready\n",
      "\u001B[0;31mKeyboardInterrupt\u001B[0m: "
     ]
    }
   ],
   "execution_count": 81
  }
 ],
 "metadata": {
  "kernelspec": {
   "display_name": "Python 3 (ipykernel)",
   "language": "python",
   "name": "python3"
  },
  "language_info": {
   "codemirror_mode": {
    "name": "ipython",
    "version": 3
   },
   "file_extension": ".py",
   "mimetype": "text/x-python",
   "name": "python",
   "nbconvert_exporter": "python",
   "pygments_lexer": "ipython3",
   "version": "3.9.13"
  }
 },
 "nbformat": 4,
 "nbformat_minor": 5
}

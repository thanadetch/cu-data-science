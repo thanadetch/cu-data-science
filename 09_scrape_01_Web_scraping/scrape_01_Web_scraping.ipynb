{
 "cells": [
  {
   "cell_type": "code",
   "id": "initial_id",
   "metadata": {
    "collapsed": true,
    "ExecuteTime": {
     "end_time": "2024-10-10T18:35:57.281316Z",
     "start_time": "2024-10-10T18:35:57.270963Z"
    }
   },
   "source": [
    "from bs4 import BeautifulSoup\n",
    "\n",
    "def Q1(file_path):  # DO NOT modify this line  \n",
    "    holy_days = [0, 0, 0, 0, 0, 0, 0]\n",
    "\n",
    "    with open(file_path, 'r') as file:\n",
    "        html_file = file.read()\n",
    "\n",
    "    soup = BeautifulSoup(html_file, 'html.parser')\n",
    "    results = soup.select('.bud-day-col:first-child')\n",
    "\n",
    "    for result in results:\n",
    "        if 'จันทร์' in result.text:\n",
    "            holy_days[0] += 1\n",
    "        elif 'อังคาร' in result.text:\n",
    "            holy_days[1] += 1\n",
    "        elif 'พุธ' in result.text:\n",
    "            holy_days[2] += 1\n",
    "        elif 'พฤหัสบดี' in result.text:\n",
    "            holy_days[3] += 1\n",
    "        elif 'ศุกร์' in result.text:\n",
    "            holy_days[4] += 1\n",
    "        elif 'เสาร์' in result.text:\n",
    "            holy_days[5] += 1\n",
    "        elif 'อาทิตย์' in result.text:\n",
    "            holy_days[6] += 1\n",
    "    return holy_days\n",
    "\n",
    "\n",
    "def Q2(file_path):  # DO NOT modify this line  \n",
    "    with open(file_path, 'r') as file:\n",
    "        html_file = file.read()\n",
    "\n",
    "    soup = BeautifulSoup(html_file, 'html.parser')\n",
    "    visakha_bucha_day = soup.select('.bud-day-col:first-child:has(~ .bud-day-col > a[title=\"วันวิสาขบูชา\"])')[0].text\n",
    "    return visakha_bucha_day\n",
    "\n",
    "# exec(input().strip())  # do not delete this line"
   ],
   "outputs": [],
   "execution_count": 38
  },
  {
   "metadata": {
    "ExecuteTime": {
     "end_time": "2024-10-10T18:35:58.924346Z",
     "start_time": "2024-10-10T18:35:58.855452Z"
    }
   },
   "cell_type": "code",
   "source": [
    "print(Q1('2566.html')) \n",
    "print(Q2('2566.html')) "
   ],
   "id": "9a283a7f59bf4e26",
   "outputs": [
    {
     "name": "stdout",
     "output_type": "stream",
     "text": [
      "[8, 6, 8, 6, 6, 7, 9]\n",
      "วันเสาร์ที่ 3 มิถุนายน 2566\n"
     ]
    }
   ],
   "execution_count": 39
  }
 ],
 "metadata": {
  "kernelspec": {
   "display_name": "Python 3",
   "language": "python",
   "name": "python3"
  },
  "language_info": {
   "codemirror_mode": {
    "name": "ipython",
    "version": 2
   },
   "file_extension": ".py",
   "mimetype": "text/x-python",
   "name": "python",
   "nbconvert_exporter": "python",
   "pygments_lexer": "ipython2",
   "version": "2.7.6"
  }
 },
 "nbformat": 4,
 "nbformat_minor": 5
}
